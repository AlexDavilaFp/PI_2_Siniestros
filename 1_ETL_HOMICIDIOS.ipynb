{
 "cells": [
  {
   "cell_type": "code",
   "execution_count": 1,
   "metadata": {},
   "outputs": [],
   "source": [
    "import pandas as pd\n",
    "import calendar\n",
    "import locale\n",
    "import seaborn as sns\n",
    "import matplotlib.pyplot as plt\n",
    "from datetime import datetime\n",
    "import warnings\n",
    "warnings.filterwarnings(\"ignore\")"
   ]
  },
  {
   "cell_type": "markdown",
   "metadata": {},
   "source": [
    "## Cargamos el archivo EXCEL, Homicidios, se crea en 2 DataFrame , uno para cada hoja"
   ]
  },
  {
   "cell_type": "code",
   "execution_count": 2,
   "metadata": {},
   "outputs": [],
   "source": [
    "df_hechos = pd.read_excel(\"Datasets\\homicidios.xlsx\", sheet_name=\"HECHOS\")"
   ]
  },
  {
   "cell_type": "code",
   "execution_count": 3,
   "metadata": {},
   "outputs": [],
   "source": [
    "df_victimas = pd.read_excel(\"Datasets\\homicidios.xlsx\", sheet_name=\"VICTIMAS\")"
   ]
  },
  {
   "cell_type": "markdown",
   "metadata": {},
   "source": [
    "## Analisis de Dataframe HECHOS"
   ]
  },
  {
   "cell_type": "code",
   "execution_count": 4,
   "metadata": {},
   "outputs": [
    {
     "data": {
      "text/html": [
       "<div>\n",
       "<style scoped>\n",
       "    .dataframe tbody tr th:only-of-type {\n",
       "        vertical-align: middle;\n",
       "    }\n",
       "\n",
       "    .dataframe tbody tr th {\n",
       "        vertical-align: top;\n",
       "    }\n",
       "\n",
       "    .dataframe thead th {\n",
       "        text-align: right;\n",
       "    }\n",
       "</style>\n",
       "<table border=\"1\" class=\"dataframe\">\n",
       "  <thead>\n",
       "    <tr style=\"text-align: right;\">\n",
       "      <th></th>\n",
       "      <th>ID</th>\n",
       "      <th>N_VICTIMAS</th>\n",
       "      <th>FECHA</th>\n",
       "      <th>AAAA</th>\n",
       "      <th>MM</th>\n",
       "      <th>DD</th>\n",
       "      <th>HORA</th>\n",
       "      <th>HH</th>\n",
       "      <th>LUGAR_DEL_HECHO</th>\n",
       "      <th>TIPO_DE_CALLE</th>\n",
       "      <th>...</th>\n",
       "      <th>Altura</th>\n",
       "      <th>Cruce</th>\n",
       "      <th>Dirección Normalizada</th>\n",
       "      <th>COMUNA</th>\n",
       "      <th>XY (CABA)</th>\n",
       "      <th>pos x</th>\n",
       "      <th>pos y</th>\n",
       "      <th>PARTICIPANTES</th>\n",
       "      <th>VICTIMA</th>\n",
       "      <th>ACUSADO</th>\n",
       "    </tr>\n",
       "  </thead>\n",
       "  <tbody>\n",
       "    <tr>\n",
       "      <th>0</th>\n",
       "      <td>2016-0001</td>\n",
       "      <td>1</td>\n",
       "      <td>2016-01-01</td>\n",
       "      <td>2016</td>\n",
       "      <td>1</td>\n",
       "      <td>1</td>\n",
       "      <td>04:00:00</td>\n",
       "      <td>4</td>\n",
       "      <td>AV PIEDRA BUENA Y AV FERNANDEZ DE LA CRUZ</td>\n",
       "      <td>AVENIDA</td>\n",
       "      <td>...</td>\n",
       "      <td>NaN</td>\n",
       "      <td>FERNANDEZ DE LA CRUZ, F., GRAL. AV.</td>\n",
       "      <td>PIEDRA BUENA AV. y FERNANDEZ DE LA CRUZ, F., G...</td>\n",
       "      <td>8</td>\n",
       "      <td>Point (98896.78238426 93532.43437792)</td>\n",
       "      <td>-58.47533969</td>\n",
       "      <td>-34.68757022</td>\n",
       "      <td>MOTO-AUTO</td>\n",
       "      <td>MOTO</td>\n",
       "      <td>AUTO</td>\n",
       "    </tr>\n",
       "    <tr>\n",
       "      <th>1</th>\n",
       "      <td>2016-0002</td>\n",
       "      <td>1</td>\n",
       "      <td>2016-01-02</td>\n",
       "      <td>2016</td>\n",
       "      <td>1</td>\n",
       "      <td>2</td>\n",
       "      <td>01:15:00</td>\n",
       "      <td>1</td>\n",
       "      <td>AV GRAL PAZ  Y AV DE LOS CORRALES</td>\n",
       "      <td>GRAL PAZ</td>\n",
       "      <td>...</td>\n",
       "      <td>NaN</td>\n",
       "      <td>DE LOS CORRALES AV.</td>\n",
       "      <td>PAZ, GRAL. AV. y DE LOS CORRALES AV.</td>\n",
       "      <td>9</td>\n",
       "      <td>Point (95832.05571093 95505.41641999)</td>\n",
       "      <td>-58.50877521</td>\n",
       "      <td>-34.66977709</td>\n",
       "      <td>AUTO-PASAJEROS</td>\n",
       "      <td>AUTO</td>\n",
       "      <td>PASAJEROS</td>\n",
       "    </tr>\n",
       "    <tr>\n",
       "      <th>2</th>\n",
       "      <td>2016-0003</td>\n",
       "      <td>1</td>\n",
       "      <td>2016-01-03</td>\n",
       "      <td>2016</td>\n",
       "      <td>1</td>\n",
       "      <td>3</td>\n",
       "      <td>07:00:00</td>\n",
       "      <td>7</td>\n",
       "      <td>AV ENTRE RIOS 2034</td>\n",
       "      <td>AVENIDA</td>\n",
       "      <td>...</td>\n",
       "      <td>2034.0</td>\n",
       "      <td>NaN</td>\n",
       "      <td>ENTRE RIOS AV. 2034</td>\n",
       "      <td>1</td>\n",
       "      <td>Point (106684.29090040 99706.57687843)</td>\n",
       "      <td>-58.39040293</td>\n",
       "      <td>-34.63189362</td>\n",
       "      <td>MOTO-AUTO</td>\n",
       "      <td>MOTO</td>\n",
       "      <td>AUTO</td>\n",
       "    </tr>\n",
       "    <tr>\n",
       "      <th>3</th>\n",
       "      <td>2016-0004</td>\n",
       "      <td>1</td>\n",
       "      <td>2016-01-10</td>\n",
       "      <td>2016</td>\n",
       "      <td>1</td>\n",
       "      <td>10</td>\n",
       "      <td>00:00:00</td>\n",
       "      <td>0</td>\n",
       "      <td>AV LARRAZABAL Y GRAL VILLEGAS CONRADO</td>\n",
       "      <td>AVENIDA</td>\n",
       "      <td>...</td>\n",
       "      <td>NaN</td>\n",
       "      <td>VILLEGAS, CONRADO, GRAL.</td>\n",
       "      <td>LARRAZABAL AV. y VILLEGAS, CONRADO, GRAL.</td>\n",
       "      <td>8</td>\n",
       "      <td>Point (99840.65224780 94269.16534422)</td>\n",
       "      <td>-58.46503904</td>\n",
       "      <td>-34.68092974</td>\n",
       "      <td>MOTO-SD</td>\n",
       "      <td>MOTO</td>\n",
       "      <td>SD</td>\n",
       "    </tr>\n",
       "    <tr>\n",
       "      <th>4</th>\n",
       "      <td>2016-0005</td>\n",
       "      <td>1</td>\n",
       "      <td>2016-01-21</td>\n",
       "      <td>2016</td>\n",
       "      <td>1</td>\n",
       "      <td>21</td>\n",
       "      <td>05:20:00</td>\n",
       "      <td>5</td>\n",
       "      <td>AV SAN JUAN Y PRESIDENTE LUIS SAENZ PEÑA</td>\n",
       "      <td>AVENIDA</td>\n",
       "      <td>...</td>\n",
       "      <td>NaN</td>\n",
       "      <td>SAENZ PE?A, LUIS, PRES.</td>\n",
       "      <td>SAN JUAN AV. y SAENZ PEÃ‘A, LUIS, PRES.</td>\n",
       "      <td>1</td>\n",
       "      <td>Point (106980.32827929 100752.16915795)</td>\n",
       "      <td>-58.38718297</td>\n",
       "      <td>-34.62246630</td>\n",
       "      <td>MOTO-PASAJEROS</td>\n",
       "      <td>MOTO</td>\n",
       "      <td>PASAJEROS</td>\n",
       "    </tr>\n",
       "  </tbody>\n",
       "</table>\n",
       "<p>5 rows × 21 columns</p>\n",
       "</div>"
      ],
      "text/plain": [
       "          ID  N_VICTIMAS      FECHA  AAAA  MM  DD      HORA HH  \\\n",
       "0  2016-0001           1 2016-01-01  2016   1   1  04:00:00  4   \n",
       "1  2016-0002           1 2016-01-02  2016   1   2  01:15:00  1   \n",
       "2  2016-0003           1 2016-01-03  2016   1   3  07:00:00  7   \n",
       "3  2016-0004           1 2016-01-10  2016   1  10  00:00:00  0   \n",
       "4  2016-0005           1 2016-01-21  2016   1  21  05:20:00  5   \n",
       "\n",
       "                             LUGAR_DEL_HECHO TIPO_DE_CALLE  ...  Altura  \\\n",
       "0  AV PIEDRA BUENA Y AV FERNANDEZ DE LA CRUZ       AVENIDA  ...     NaN   \n",
       "1          AV GRAL PAZ  Y AV DE LOS CORRALES      GRAL PAZ  ...     NaN   \n",
       "2                         AV ENTRE RIOS 2034       AVENIDA  ...  2034.0   \n",
       "3      AV LARRAZABAL Y GRAL VILLEGAS CONRADO       AVENIDA  ...     NaN   \n",
       "4  AV SAN JUAN Y PRESIDENTE LUIS SAENZ PEÑA        AVENIDA  ...     NaN   \n",
       "\n",
       "                                 Cruce  \\\n",
       "0  FERNANDEZ DE LA CRUZ, F., GRAL. AV.   \n",
       "1                  DE LOS CORRALES AV.   \n",
       "2                                  NaN   \n",
       "3             VILLEGAS, CONRADO, GRAL.   \n",
       "4              SAENZ PE?A, LUIS, PRES.   \n",
       "\n",
       "                               Dirección Normalizada COMUNA  \\\n",
       "0  PIEDRA BUENA AV. y FERNANDEZ DE LA CRUZ, F., G...      8   \n",
       "1               PAZ, GRAL. AV. y DE LOS CORRALES AV.      9   \n",
       "2                                ENTRE RIOS AV. 2034      1   \n",
       "3          LARRAZABAL AV. y VILLEGAS, CONRADO, GRAL.      8   \n",
       "4            SAN JUAN AV. y SAENZ PEÃ‘A, LUIS, PRES.      1   \n",
       "\n",
       "                                 XY (CABA)         pos x         pos y  \\\n",
       "0    Point (98896.78238426 93532.43437792)  -58.47533969  -34.68757022   \n",
       "1    Point (95832.05571093 95505.41641999)  -58.50877521  -34.66977709   \n",
       "2   Point (106684.29090040 99706.57687843)  -58.39040293  -34.63189362   \n",
       "3    Point (99840.65224780 94269.16534422)  -58.46503904  -34.68092974   \n",
       "4  Point (106980.32827929 100752.16915795)  -58.38718297  -34.62246630   \n",
       "\n",
       "    PARTICIPANTES VICTIMA    ACUSADO  \n",
       "0       MOTO-AUTO    MOTO       AUTO  \n",
       "1  AUTO-PASAJEROS    AUTO  PASAJEROS  \n",
       "2       MOTO-AUTO    MOTO       AUTO  \n",
       "3         MOTO-SD    MOTO         SD  \n",
       "4  MOTO-PASAJEROS    MOTO  PASAJEROS  \n",
       "\n",
       "[5 rows x 21 columns]"
      ]
     },
     "execution_count": 4,
     "metadata": {},
     "output_type": "execute_result"
    }
   ],
   "source": [
    "# Se muestra las primeras 5 filas del DataFrame\n",
    "df_hechos.head(5)"
   ]
  },
  {
   "cell_type": "code",
   "execution_count": 5,
   "metadata": {},
   "outputs": [
    {
     "data": {
      "text/plain": [
       "Index(['ID', 'N_VICTIMAS', 'FECHA', 'AAAA', 'MM', 'DD', 'HORA', 'HH',\n",
       "       'LUGAR_DEL_HECHO', 'TIPO_DE_CALLE', 'Calle', 'Altura', 'Cruce',\n",
       "       'Dirección Normalizada', 'COMUNA', 'XY (CABA)', 'pos x', 'pos y',\n",
       "       'PARTICIPANTES', 'VICTIMA', 'ACUSADO'],\n",
       "      dtype='object')"
      ]
     },
     "execution_count": 5,
     "metadata": {},
     "output_type": "execute_result"
    }
   ],
   "source": [
    "# Se muestra los nombres de las columnas en el DataFrame\n",
    "df_hechos.columns"
   ]
  },
  {
   "cell_type": "code",
   "execution_count": 6,
   "metadata": {},
   "outputs": [
    {
     "data": {
      "text/plain": [
       "(696, 21)"
      ]
     },
     "execution_count": 6,
     "metadata": {},
     "output_type": "execute_result"
    }
   ],
   "source": [
    "# Devuelve la forma (número de filas y columnas) del DataFrame\n",
    "df_hechos.shape"
   ]
  },
  {
   "cell_type": "code",
   "execution_count": 7,
   "metadata": {},
   "outputs": [
    {
     "data": {
      "text/plain": [
       "ID                               object\n",
       "N_VICTIMAS                        int64\n",
       "FECHA                    datetime64[ns]\n",
       "AAAA                              int64\n",
       "MM                                int64\n",
       "DD                                int64\n",
       "HORA                             object\n",
       "HH                               object\n",
       "LUGAR_DEL_HECHO                  object\n",
       "TIPO_DE_CALLE                    object\n",
       "Calle                            object\n",
       "Altura                          float64\n",
       "Cruce                            object\n",
       "Dirección Normalizada            object\n",
       "COMUNA                            int64\n",
       "XY (CABA)                        object\n",
       "pos x                            object\n",
       "pos y                            object\n",
       "PARTICIPANTES                    object\n",
       "VICTIMA                          object\n",
       "ACUSADO                          object\n",
       "dtype: object"
      ]
     },
     "execution_count": 7,
     "metadata": {},
     "output_type": "execute_result"
    }
   ],
   "source": [
    "# Se muestra el tipo de datos de cada columna en el DataFrame\n",
    "df_hechos.dtypes"
   ]
  },
  {
   "cell_type": "code",
   "execution_count": 8,
   "metadata": {},
   "outputs": [
    {
     "data": {
      "text/plain": [
       "ID                         0\n",
       "N_VICTIMAS                 0\n",
       "FECHA                      0\n",
       "AAAA                       0\n",
       "MM                         0\n",
       "DD                         0\n",
       "HORA                       0\n",
       "HH                         0\n",
       "LUGAR_DEL_HECHO            0\n",
       "TIPO_DE_CALLE              0\n",
       "Calle                      1\n",
       "Altura                   567\n",
       "Cruce                    171\n",
       "Dirección Normalizada      8\n",
       "COMUNA                     0\n",
       "XY (CABA)                  0\n",
       "pos x                      0\n",
       "pos y                      0\n",
       "PARTICIPANTES              0\n",
       "VICTIMA                    0\n",
       "ACUSADO                    0\n",
       "dtype: int64"
      ]
     },
     "execution_count": 8,
     "metadata": {},
     "output_type": "execute_result"
    }
   ],
   "source": [
    "# Se cuenta el número de valores nulos en cada columna\n",
    "df_hechos.isnull().sum()"
   ]
  },
  {
   "cell_type": "code",
   "execution_count": 9,
   "metadata": {},
   "outputs": [
    {
     "data": {
      "text/plain": [
       "0"
      ]
     },
     "execution_count": 9,
     "metadata": {},
     "output_type": "execute_result"
    }
   ],
   "source": [
    "# Se cuenta el número de filas duplicadas en el DataFrame\n",
    "df_hechos.duplicated().sum()"
   ]
  },
  {
   "cell_type": "markdown",
   "metadata": {},
   "source": [
    "Se visualiza que se encuentran la informacion de los hechos con las siguientes variables:\n",
    "* ID = identificador unico del siniestro\n",
    "* N_VICTIMAS = cantidad de víctimas\n",
    "* FECHA = fecha en formato dd/mm/aaaa\n",
    "* AAAA = año\n",
    "* MM = mes\n",
    "* DD = día del mes\n",
    "* HORA = hora del siniestro\n",
    "* HH = franja horaria entera\n",
    "* LUGAR_DEL_HECHO = Dirección del hecho\n",
    "* TIPO_DE_CALLE = Tipo de arteria\n",
    "* Calle = nombre de la arteria donde se produjo el hecho\n",
    "* Altura = altura de la arteria donde se produjo el hecho\n",
    "* Cruce = cruce en caso de que sea una encrucijada\n",
    "* Dirección = Normalizada\tdireccion en formato normalizado USIG\n",
    "* COMUNA = Comuna de la ciudad (1 a 15)\n",
    "* XY (CABA) = geocodificación plana\n",
    "* pos x = longitud con separador punto. WGS84\n",
    "* pos y = latitud con separador punto. WGS84\n",
    "* PARTICIPANTES = conjunción de víctima y acusado\n",
    "* VICTIMA = Vehículo que ocupaba quien haya fallecido a se haya lastimado a raíz del hecho.\n",
    "* ACUSADO\tVehículo que ocupaba quien resultó acusado/a del hecho.\n",
    "\n",
    "\n",
    "Conclusiones preliminares: \n",
    "* Se identificaron valores faltantes en las columnas \"Calle\",\"Altura\",\"Cruce\" y \"Dirección Normalizada\". Estos requerirán un manejo adecuado durante el análisis\n",
    "* La columna \"HORA\" parece estar en formato de cadena. Se convertira a un formato de tiempo. \n",
    "* La columna \"EDAD\" tiene el tipo de dato \"object,\" se convertira a un tipo numérico\n",
    "* Las columnas \"pos x\" y \"pos y\" proporcionan información de geolocalización. Se podran utilizar para visualizar la distribución espacial de los siniestros en un mapa. Estas variables tambien nos permiten mapear geográficamente los siniestros, identificando áreas de alta frecuencia."
   ]
  },
  {
   "cell_type": "markdown",
   "metadata": {},
   "source": [
    "## Analisis de Dataframe VICTIMAS"
   ]
  },
  {
   "cell_type": "code",
   "execution_count": 10,
   "metadata": {},
   "outputs": [
    {
     "data": {
      "text/html": [
       "<div>\n",
       "<style scoped>\n",
       "    .dataframe tbody tr th:only-of-type {\n",
       "        vertical-align: middle;\n",
       "    }\n",
       "\n",
       "    .dataframe tbody tr th {\n",
       "        vertical-align: top;\n",
       "    }\n",
       "\n",
       "    .dataframe thead th {\n",
       "        text-align: right;\n",
       "    }\n",
       "</style>\n",
       "<table border=\"1\" class=\"dataframe\">\n",
       "  <thead>\n",
       "    <tr style=\"text-align: right;\">\n",
       "      <th></th>\n",
       "      <th>ID_hecho</th>\n",
       "      <th>FECHA</th>\n",
       "      <th>AAAA</th>\n",
       "      <th>MM</th>\n",
       "      <th>DD</th>\n",
       "      <th>ROL</th>\n",
       "      <th>VICTIMA</th>\n",
       "      <th>SEXO</th>\n",
       "      <th>EDAD</th>\n",
       "      <th>FECHA_FALLECIMIENTO</th>\n",
       "    </tr>\n",
       "  </thead>\n",
       "  <tbody>\n",
       "    <tr>\n",
       "      <th>0</th>\n",
       "      <td>2016-0001</td>\n",
       "      <td>2016-01-01</td>\n",
       "      <td>2016</td>\n",
       "      <td>1</td>\n",
       "      <td>1</td>\n",
       "      <td>CONDUCTOR</td>\n",
       "      <td>MOTO</td>\n",
       "      <td>MASCULINO</td>\n",
       "      <td>19</td>\n",
       "      <td>2016-01-01 00:00:00</td>\n",
       "    </tr>\n",
       "    <tr>\n",
       "      <th>1</th>\n",
       "      <td>2016-0002</td>\n",
       "      <td>2016-01-02</td>\n",
       "      <td>2016</td>\n",
       "      <td>1</td>\n",
       "      <td>2</td>\n",
       "      <td>CONDUCTOR</td>\n",
       "      <td>AUTO</td>\n",
       "      <td>MASCULINO</td>\n",
       "      <td>70</td>\n",
       "      <td>2016-01-02 00:00:00</td>\n",
       "    </tr>\n",
       "    <tr>\n",
       "      <th>2</th>\n",
       "      <td>2016-0003</td>\n",
       "      <td>2016-01-03</td>\n",
       "      <td>2016</td>\n",
       "      <td>1</td>\n",
       "      <td>3</td>\n",
       "      <td>CONDUCTOR</td>\n",
       "      <td>MOTO</td>\n",
       "      <td>MASCULINO</td>\n",
       "      <td>30</td>\n",
       "      <td>2016-01-03 00:00:00</td>\n",
       "    </tr>\n",
       "    <tr>\n",
       "      <th>3</th>\n",
       "      <td>2016-0004</td>\n",
       "      <td>2016-01-10</td>\n",
       "      <td>2016</td>\n",
       "      <td>1</td>\n",
       "      <td>10</td>\n",
       "      <td>CONDUCTOR</td>\n",
       "      <td>MOTO</td>\n",
       "      <td>MASCULINO</td>\n",
       "      <td>18</td>\n",
       "      <td>SD</td>\n",
       "    </tr>\n",
       "    <tr>\n",
       "      <th>4</th>\n",
       "      <td>2016-0005</td>\n",
       "      <td>2016-01-21</td>\n",
       "      <td>2016</td>\n",
       "      <td>1</td>\n",
       "      <td>21</td>\n",
       "      <td>CONDUCTOR</td>\n",
       "      <td>MOTO</td>\n",
       "      <td>MASCULINO</td>\n",
       "      <td>29</td>\n",
       "      <td>2016-02-01 00:00:00</td>\n",
       "    </tr>\n",
       "  </tbody>\n",
       "</table>\n",
       "</div>"
      ],
      "text/plain": [
       "    ID_hecho      FECHA  AAAA  MM  DD        ROL VICTIMA       SEXO EDAD  \\\n",
       "0  2016-0001 2016-01-01  2016   1   1  CONDUCTOR    MOTO  MASCULINO   19   \n",
       "1  2016-0002 2016-01-02  2016   1   2  CONDUCTOR    AUTO  MASCULINO   70   \n",
       "2  2016-0003 2016-01-03  2016   1   3  CONDUCTOR    MOTO  MASCULINO   30   \n",
       "3  2016-0004 2016-01-10  2016   1  10  CONDUCTOR    MOTO  MASCULINO   18   \n",
       "4  2016-0005 2016-01-21  2016   1  21  CONDUCTOR    MOTO  MASCULINO   29   \n",
       "\n",
       "   FECHA_FALLECIMIENTO  \n",
       "0  2016-01-01 00:00:00  \n",
       "1  2016-01-02 00:00:00  \n",
       "2  2016-01-03 00:00:00  \n",
       "3                   SD  \n",
       "4  2016-02-01 00:00:00  "
      ]
     },
     "execution_count": 10,
     "metadata": {},
     "output_type": "execute_result"
    }
   ],
   "source": [
    "# Se muestra las primeras 5 filas del DataFrame\n",
    "df_victimas.head(5)"
   ]
  },
  {
   "cell_type": "code",
   "execution_count": 11,
   "metadata": {},
   "outputs": [
    {
     "data": {
      "text/plain": [
       "Index(['ID_hecho', 'FECHA', 'AAAA', 'MM', 'DD', 'ROL', 'VICTIMA', 'SEXO',\n",
       "       'EDAD', 'FECHA_FALLECIMIENTO'],\n",
       "      dtype='object')"
      ]
     },
     "execution_count": 11,
     "metadata": {},
     "output_type": "execute_result"
    }
   ],
   "source": [
    "# Se muestra los nombres de las columnas en el DataFrame\n",
    "df_victimas.columns"
   ]
  },
  {
   "cell_type": "code",
   "execution_count": 12,
   "metadata": {},
   "outputs": [
    {
     "data": {
      "text/plain": [
       "(717, 10)"
      ]
     },
     "execution_count": 12,
     "metadata": {},
     "output_type": "execute_result"
    }
   ],
   "source": [
    "# Devuelve la forma (número de filas y columnas) del DataFrame\n",
    "df_victimas.shape"
   ]
  },
  {
   "cell_type": "code",
   "execution_count": 13,
   "metadata": {},
   "outputs": [
    {
     "data": {
      "text/plain": [
       "ID_hecho                       object\n",
       "FECHA                  datetime64[ns]\n",
       "AAAA                            int64\n",
       "MM                              int64\n",
       "DD                              int64\n",
       "ROL                            object\n",
       "VICTIMA                        object\n",
       "SEXO                           object\n",
       "EDAD                           object\n",
       "FECHA_FALLECIMIENTO            object\n",
       "dtype: object"
      ]
     },
     "execution_count": 13,
     "metadata": {},
     "output_type": "execute_result"
    }
   ],
   "source": [
    "# Se muestra el tipo de datos de cada columna en el DataFrame\n",
    "df_victimas.dtypes"
   ]
  },
  {
   "cell_type": "code",
   "execution_count": 14,
   "metadata": {},
   "outputs": [
    {
     "data": {
      "text/plain": [
       "ID_hecho               0\n",
       "FECHA                  0\n",
       "AAAA                   0\n",
       "MM                     0\n",
       "DD                     0\n",
       "ROL                    0\n",
       "VICTIMA                0\n",
       "SEXO                   0\n",
       "EDAD                   0\n",
       "FECHA_FALLECIMIENTO    0\n",
       "dtype: int64"
      ]
     },
     "execution_count": 14,
     "metadata": {},
     "output_type": "execute_result"
    }
   ],
   "source": [
    "# Se cuenta el número de valores nulos en cada columna\n",
    "df_victimas.isnull().sum()"
   ]
  },
  {
   "cell_type": "code",
   "execution_count": 15,
   "metadata": {},
   "outputs": [
    {
     "data": {
      "text/plain": [
       "0"
      ]
     },
     "execution_count": 15,
     "metadata": {},
     "output_type": "execute_result"
    }
   ],
   "source": [
    "# Se cuenta el número de filas duplicadas en el DataFrame\n",
    "df_victimas.duplicated().sum()"
   ]
  },
  {
   "cell_type": "markdown",
   "metadata": {},
   "source": [
    "Se visualiza que se encuentran la informacion de las victimas con las siguientes variables:\n",
    "* ID_hecho = identificador unico del siniestro\n",
    "* FECHA = fecha en formato dd/mm/aaaa\n",
    "* AAAA = año\n",
    "* MM = mes\n",
    "* DD = día del mes\n",
    "* ROL = Posición relativa al vehículo que presentaba la víctima en el momento del siniestro\n",
    "* VICTIMA = Vehículo que ocupaba quien haya fallecido a se haya lastimado a raíz del hecho.\n",
    "* SEXO = Sexo informado por fuente policial de la víctima\n",
    "* EDAD = Edad de la víctima al momento del siniestro\n",
    "* FECHA_FALLECIMIENTO = Fecha de fallecimiento de la víctima\n",
    "\n",
    "Conclusiones preliminares: \n",
    "\n",
    "* El DataFrame de víctimas proporciona información detallada sobre las personas involucradas en los siniestros.\n",
    "* Las variables compartidas entre los dos DataFrames, como el identificador del siniestro (\"ID\"), pueden usarse para vincular la información de hechos y víctimas\n",
    "* Aunque el DataFrame de hechos tiene 696 filas y el DataFrame de víctimas tiene 717 filas, se observa que hay más víctimas que hechos\n",
    "* La columna \"EDAD\" en el DataFrame de hechos tiene el tipo de dato \"object,\" se convertira a un tipo numérico\n",
    "* Las variables relacionadas con las víctimas, como \"SEXO\" y \"EDAD,\" ofrecen información valiosa sobre el perfil de las personas involucradas en los siniestros."
   ]
  },
  {
   "cell_type": "markdown",
   "metadata": {},
   "source": [
    "### Renombre de columnas"
   ]
  },
  {
   "cell_type": "code",
   "execution_count": 16,
   "metadata": {},
   "outputs": [],
   "source": [
    "# Renombrar columnas de Dataframe Hechos\n",
    "df_hechos.rename(columns={\"ID\":\"Id\",\n",
    "                          \"N_VICTIMAS\":\"Nro Victimas\",\n",
    "                          \"FECHA\":\"Fecha\",\n",
    "                          \"AAAA\":\"Año\",\n",
    "                          \"MM\":\"Mes\",\n",
    "                          \"DD\":\"Dia\",\n",
    "                          \"HORA\":\"Hora\",\n",
    "                          \"HH\":\"Franja Horaria\",\n",
    "                          \"LUGAR_DEL_HECHO\":\"Lugar\",\n",
    "                          \"TIPO_DE_CALLE\": \"Tipo Calle\",\n",
    "                          \"COMUNA\":\"Comuna\",\n",
    "                          \"XY (CABA)\":\"Geocodificacion\",\n",
    "                          \"pos x\":\"Longitud\",\n",
    "                          \"pos y\":\"Latitud\",\n",
    "                          \"PARTICIPANTES\":\"Participantes\",\n",
    "                          \"VICTIMA\":\"Victima\",\n",
    "                          \"ACUSADO\":\"Acusado\"}, inplace=True)"
   ]
  },
  {
   "cell_type": "code",
   "execution_count": 17,
   "metadata": {},
   "outputs": [
    {
     "data": {
      "text/plain": [
       "Index(['Id', 'Nro Victimas', 'Fecha', 'Año', 'Mes', 'Dia', 'Hora',\n",
       "       'Franja Horaria', 'Lugar', 'Tipo Calle', 'Calle', 'Altura', 'Cruce',\n",
       "       'Dirección Normalizada', 'Comuna', 'Geocodificacion', 'Longitud',\n",
       "       'Latitud', 'Participantes', 'Victima', 'Acusado'],\n",
       "      dtype='object')"
      ]
     },
     "execution_count": 17,
     "metadata": {},
     "output_type": "execute_result"
    }
   ],
   "source": [
    "df_hechos.columns"
   ]
  },
  {
   "cell_type": "code",
   "execution_count": 18,
   "metadata": {},
   "outputs": [],
   "source": [
    "# Renombrar columnas de Dataframe victimas\n",
    "df_victimas.rename(columns={\"ID_hecho\":\"Id\",\n",
    "                          \"FECHA\":\"Fecha\",\n",
    "                          \"AAAA\":\"Año\",\n",
    "                          \"MM\":\"Mes\",\n",
    "                          \"DD\":\"Dia\",\n",
    "                          \"ROL\":\"Rol\",\n",
    "                          \"VICTIMA\":\"Victima\",\n",
    "                          \"SEXO\":\"Sexo\",\n",
    "                          \"EDAD\": \"Edad\",\n",
    "                          \"FECHA_FALLECIMIENTO\":\"Fecha_fallecimiento\"}, inplace=True)"
   ]
  },
  {
   "cell_type": "code",
   "execution_count": 19,
   "metadata": {},
   "outputs": [
    {
     "data": {
      "text/plain": [
       "Index(['Id', 'Fecha', 'Año', 'Mes', 'Dia', 'Rol', 'Victima', 'Sexo', 'Edad',\n",
       "       'Fecha_fallecimiento'],\n",
       "      dtype='object')"
      ]
     },
     "execution_count": 19,
     "metadata": {},
     "output_type": "execute_result"
    }
   ],
   "source": [
    "df_victimas.columns"
   ]
  },
  {
   "cell_type": "markdown",
   "metadata": {},
   "source": [
    "## DATAFRAME HECHOS"
   ]
  },
  {
   "cell_type": "markdown",
   "metadata": {},
   "source": [
    "### Trabajaremos con los valores Nulos"
   ]
  },
  {
   "cell_type": "code",
   "execution_count": 20,
   "metadata": {},
   "outputs": [
    {
     "data": {
      "text/plain": [
       "Altura                   567\n",
       "Calle                      1\n",
       "Cruce                    171\n",
       "Dirección Normalizada      8\n",
       "dtype: int64"
      ]
     },
     "execution_count": 20,
     "metadata": {},
     "output_type": "execute_result"
    }
   ],
   "source": [
    "df_hechos[[\"Altura\", \"Calle\", \"Cruce\",\"Dirección Normalizada\"]].isnull().sum()"
   ]
  },
  {
   "cell_type": "markdown",
   "metadata": {},
   "source": [
    "La variable calle, solo hay 1 nulo , representa una cantidad minima por lo tanto se procede a eliminar\n"
   ]
  },
  {
   "cell_type": "code",
   "execution_count": 21,
   "metadata": {},
   "outputs": [],
   "source": [
    "df_hechos = df_hechos.dropna(subset=[\"Calle\"])"
   ]
  },
  {
   "cell_type": "markdown",
   "metadata": {},
   "source": [
    "La variable altura, informa el pundo donde ocurrio los hechos, esta variable tiene muchos datos nulos y no aportan una informacion relevante , se procede a eliminar "
   ]
  },
  {
   "cell_type": "code",
   "execution_count": 22,
   "metadata": {},
   "outputs": [],
   "source": [
    "df_hechos = df_hechos.drop([\"Altura\"], axis=1)"
   ]
  },
  {
   "cell_type": "markdown",
   "metadata": {},
   "source": [
    "Trabajaremos con la variable Cruce "
   ]
  },
  {
   "cell_type": "code",
   "execution_count": 23,
   "metadata": {},
   "outputs": [
    {
     "data": {
      "text/html": [
       "<div>\n",
       "<style scoped>\n",
       "    .dataframe tbody tr th:only-of-type {\n",
       "        vertical-align: middle;\n",
       "    }\n",
       "\n",
       "    .dataframe tbody tr th {\n",
       "        vertical-align: top;\n",
       "    }\n",
       "\n",
       "    .dataframe thead th {\n",
       "        text-align: right;\n",
       "    }\n",
       "</style>\n",
       "<table border=\"1\" class=\"dataframe\">\n",
       "  <thead>\n",
       "    <tr style=\"text-align: right;\">\n",
       "      <th></th>\n",
       "      <th>Lugar</th>\n",
       "      <th>Tipo Calle</th>\n",
       "      <th>Cruce</th>\n",
       "    </tr>\n",
       "  </thead>\n",
       "  <tbody>\n",
       "    <tr>\n",
       "      <th>0</th>\n",
       "      <td>AV PIEDRA BUENA Y AV FERNANDEZ DE LA CRUZ</td>\n",
       "      <td>AVENIDA</td>\n",
       "      <td>FERNANDEZ DE LA CRUZ, F., GRAL. AV.</td>\n",
       "    </tr>\n",
       "    <tr>\n",
       "      <th>1</th>\n",
       "      <td>AV GRAL PAZ  Y AV DE LOS CORRALES</td>\n",
       "      <td>GRAL PAZ</td>\n",
       "      <td>DE LOS CORRALES AV.</td>\n",
       "    </tr>\n",
       "    <tr>\n",
       "      <th>3</th>\n",
       "      <td>AV LARRAZABAL Y GRAL VILLEGAS CONRADO</td>\n",
       "      <td>AVENIDA</td>\n",
       "      <td>VILLEGAS, CONRADO, GRAL.</td>\n",
       "    </tr>\n",
       "    <tr>\n",
       "      <th>4</th>\n",
       "      <td>AV SAN JUAN Y PRESIDENTE LUIS SAENZ PEÑA</td>\n",
       "      <td>AVENIDA</td>\n",
       "      <td>SAENZ PE?A, LUIS, PRES.</td>\n",
       "    </tr>\n",
       "    <tr>\n",
       "      <th>5</th>\n",
       "      <td>AV 27 DE FEBRERO Y AV ESCALADA</td>\n",
       "      <td>AVENIDA</td>\n",
       "      <td>ESCALADA AV.</td>\n",
       "    </tr>\n",
       "  </tbody>\n",
       "</table>\n",
       "</div>"
      ],
      "text/plain": [
       "                                       Lugar Tipo Calle  \\\n",
       "0  AV PIEDRA BUENA Y AV FERNANDEZ DE LA CRUZ    AVENIDA   \n",
       "1          AV GRAL PAZ  Y AV DE LOS CORRALES   GRAL PAZ   \n",
       "3      AV LARRAZABAL Y GRAL VILLEGAS CONRADO    AVENIDA   \n",
       "4  AV SAN JUAN Y PRESIDENTE LUIS SAENZ PEÑA     AVENIDA   \n",
       "5             AV 27 DE FEBRERO Y AV ESCALADA    AVENIDA   \n",
       "\n",
       "                                 Cruce  \n",
       "0  FERNANDEZ DE LA CRUZ, F., GRAL. AV.  \n",
       "1                  DE LOS CORRALES AV.  \n",
       "3             VILLEGAS, CONRADO, GRAL.  \n",
       "4              SAENZ PE?A, LUIS, PRES.  \n",
       "5                         ESCALADA AV.  "
      ]
     },
     "execution_count": 23,
     "metadata": {},
     "output_type": "execute_result"
    }
   ],
   "source": [
    "con_cruce = df_hechos[df_hechos[\"Cruce\"].notna()]\n",
    "con_cruce[[\"Lugar\",\"Tipo Calle\",\"Cruce\"]].head(5)"
   ]
  },
  {
   "cell_type": "code",
   "execution_count": 24,
   "metadata": {},
   "outputs": [
    {
     "data": {
      "text/html": [
       "<div>\n",
       "<style scoped>\n",
       "    .dataframe tbody tr th:only-of-type {\n",
       "        vertical-align: middle;\n",
       "    }\n",
       "\n",
       "    .dataframe tbody tr th {\n",
       "        vertical-align: top;\n",
       "    }\n",
       "\n",
       "    .dataframe thead th {\n",
       "        text-align: right;\n",
       "    }\n",
       "</style>\n",
       "<table border=\"1\" class=\"dataframe\">\n",
       "  <thead>\n",
       "    <tr style=\"text-align: right;\">\n",
       "      <th></th>\n",
       "      <th>Lugar</th>\n",
       "      <th>Tipo Calle</th>\n",
       "    </tr>\n",
       "  </thead>\n",
       "  <tbody>\n",
       "    <tr>\n",
       "      <th>2</th>\n",
       "      <td>AV ENTRE RIOS 2034</td>\n",
       "      <td>AVENIDA</td>\n",
       "    </tr>\n",
       "    <tr>\n",
       "      <th>9</th>\n",
       "      <td>AV ENTRE RIOS 1366</td>\n",
       "      <td>AVENIDA</td>\n",
       "    </tr>\n",
       "    <tr>\n",
       "      <th>14</th>\n",
       "      <td>SUIPACHA 156</td>\n",
       "      <td>CALLE</td>\n",
       "    </tr>\n",
       "    <tr>\n",
       "      <th>33</th>\n",
       "      <td>LIMA 1483</td>\n",
       "      <td>CALLE</td>\n",
       "    </tr>\n",
       "    <tr>\n",
       "      <th>35</th>\n",
       "      <td>AUTOPISTA 1 SUR PRESIDENTE ARTURO FRONDIZI KM....</td>\n",
       "      <td>AUTOPISTA</td>\n",
       "    </tr>\n",
       "  </tbody>\n",
       "</table>\n",
       "</div>"
      ],
      "text/plain": [
       "                                                Lugar Tipo Calle\n",
       "2                                  AV ENTRE RIOS 2034    AVENIDA\n",
       "9                                  AV ENTRE RIOS 1366    AVENIDA\n",
       "14                                       SUIPACHA 156      CALLE\n",
       "33                                          LIMA 1483      CALLE\n",
       "35  AUTOPISTA 1 SUR PRESIDENTE ARTURO FRONDIZI KM....  AUTOPISTA"
      ]
     },
     "execution_count": 24,
     "metadata": {},
     "output_type": "execute_result"
    }
   ],
   "source": [
    "sin_cruce = df_hechos[df_hechos[\"Cruce\"].isna()]\n",
    "sin_cruce[[\"Lugar\",\"Tipo Calle\"]].head(5)\n"
   ]
  },
  {
   "cell_type": "markdown",
   "metadata": {},
   "source": [
    "En base a lo observado arriba podemos asumir que los valores nulos que se encuentran en la variable corresponden a hechos que no sucedieron en un cruce por lo que procedemos a imputar esos valores como \"Sin cruce\""
   ]
  },
  {
   "cell_type": "code",
   "execution_count": 25,
   "metadata": {},
   "outputs": [],
   "source": [
    "df_hechos[\"Cruce\"].fillna(\"Sin cruce\", inplace=True)"
   ]
  },
  {
   "cell_type": "markdown",
   "metadata": {},
   "source": [
    "La variable \"Direccion normalizada\" representa a la calle donde ocurrio el hecho, en este caso la cantidad de valores nulos son pocos en comparacion con el total de registros por lo que se procede a eliminar los nulos"
   ]
  },
  {
   "cell_type": "code",
   "execution_count": 26,
   "metadata": {},
   "outputs": [],
   "source": [
    "df_hechos = df_hechos.dropna(subset=[\"Dirección Normalizada\"])"
   ]
  },
  {
   "cell_type": "code",
   "execution_count": 27,
   "metadata": {},
   "outputs": [
    {
     "data": {
      "text/plain": [
       "Id                       0\n",
       "Nro Victimas             0\n",
       "Fecha                    0\n",
       "Año                      0\n",
       "Mes                      0\n",
       "Dia                      0\n",
       "Hora                     0\n",
       "Franja Horaria           0\n",
       "Lugar                    0\n",
       "Tipo Calle               0\n",
       "Calle                    0\n",
       "Cruce                    0\n",
       "Dirección Normalizada    0\n",
       "Comuna                   0\n",
       "Geocodificacion          0\n",
       "Longitud                 0\n",
       "Latitud                  0\n",
       "Participantes            0\n",
       "Victima                  0\n",
       "Acusado                  0\n",
       "dtype: int64"
      ]
     },
     "execution_count": 27,
     "metadata": {},
     "output_type": "execute_result"
    }
   ],
   "source": [
    "df_hechos.isnull().sum()"
   ]
  },
  {
   "cell_type": "markdown",
   "metadata": {},
   "source": [
    "En nuestros datos, en los cuales no hay registros, se coloca SD, que indica Sin dato, trabajaremos con estos datos. Verificamos que columnas tienen este tipo de registros y que cantidad"
   ]
  },
  {
   "cell_type": "code",
   "execution_count": 28,
   "metadata": {},
   "outputs": [
    {
     "name": "stdout",
     "output_type": "stream",
     "text": [
      "Columna 'Id': 0 veces que aparece 'SD'\n",
      "Columna 'Nro Victimas': 0 veces que aparece 'SD'\n",
      "Columna 'Fecha': 0 veces que aparece 'SD'\n",
      "Columna 'Año': 0 veces que aparece 'SD'\n",
      "Columna 'Mes': 0 veces que aparece 'SD'\n",
      "Columna 'Dia': 0 veces que aparece 'SD'\n",
      "Columna 'Hora': 1 veces que aparece 'SD'\n",
      "Columna 'Franja Horaria': 1 veces que aparece 'SD'\n",
      "Columna 'Lugar': 0 veces que aparece 'SD'\n",
      "Columna 'Tipo Calle': 0 veces que aparece 'SD'\n",
      "Columna 'Calle': 0 veces que aparece 'SD'\n",
      "Columna 'Cruce': 0 veces que aparece 'SD'\n",
      "Columna 'Dirección Normalizada': 0 veces que aparece 'SD'\n",
      "Columna 'Comuna': 0 veces que aparece 'SD'\n",
      "Columna 'Geocodificacion': 0 veces que aparece 'SD'\n",
      "Columna 'Longitud': 0 veces que aparece 'SD'\n",
      "Columna 'Latitud': 0 veces que aparece 'SD'\n",
      "Columna 'Participantes': 0 veces que aparece 'SD'\n",
      "Columna 'Victima': 9 veces que aparece 'SD'\n",
      "Columna 'Acusado': 21 veces que aparece 'SD'\n"
     ]
    }
   ],
   "source": [
    "columnas_sd_dicc = {}  \n",
    "\n",
    "for columna in df_hechos.columns:\n",
    "    cantidad = (df_hechos[columna] == 'SD').sum()\n",
    "    columnas_sd_dicc[columna] = cantidad\n",
    "\n",
    "for columna, conteo in columnas_sd_dicc.items():\n",
    "    print(f\"Columna '{columna}': {conteo} veces que aparece 'SD'\")"
   ]
  },
  {
   "cell_type": "markdown",
   "metadata": {},
   "source": [
    "### Variable FECHA"
   ]
  },
  {
   "cell_type": "markdown",
   "metadata": {},
   "source": [
    "Verificamos los tipos de datos que contienen las variables Fecha"
   ]
  },
  {
   "cell_type": "code",
   "execution_count": 29,
   "metadata": {},
   "outputs": [
    {
     "data": {
      "text/plain": [
       "Fecha\n",
       "<class 'pandas._libs.tslibs.timestamps.Timestamp'>    688\n",
       "Name: count, dtype: int64"
      ]
     },
     "execution_count": 29,
     "metadata": {},
     "output_type": "execute_result"
    }
   ],
   "source": [
    "df_hechos[\"Fecha\"].apply(type).value_counts()"
   ]
  },
  {
   "cell_type": "markdown",
   "metadata": {},
   "source": [
    "En la variable fecha eliminamos la estampa de tiempo para quedarnos con la fecha solamente"
   ]
  },
  {
   "cell_type": "code",
   "execution_count": 30,
   "metadata": {},
   "outputs": [],
   "source": [
    "df_hechos[\"Fecha\"]= df_hechos[\"Fecha\"].dt.date"
   ]
  },
  {
   "cell_type": "code",
   "execution_count": 31,
   "metadata": {},
   "outputs": [
    {
     "data": {
      "text/plain": [
       "Fecha\n",
       "<class 'datetime.date'>    688\n",
       "Name: count, dtype: int64"
      ]
     },
     "execution_count": 31,
     "metadata": {},
     "output_type": "execute_result"
    }
   ],
   "source": [
    "df_hechos[\"Fecha\"].apply(type).value_counts()"
   ]
  },
  {
   "cell_type": "markdown",
   "metadata": {},
   "source": [
    "### Variable HORA"
   ]
  },
  {
   "cell_type": "markdown",
   "metadata": {},
   "source": [
    "Verificamos los tipos de datos que contienen las variables Hora"
   ]
  },
  {
   "cell_type": "code",
   "execution_count": 32,
   "metadata": {},
   "outputs": [
    {
     "data": {
      "text/plain": [
       "Hora\n",
       "<class 'datetime.time'>        600\n",
       "<class 'str'>                   85\n",
       "<class 'datetime.datetime'>      3\n",
       "Name: count, dtype: int64"
      ]
     },
     "execution_count": 32,
     "metadata": {},
     "output_type": "execute_result"
    }
   ],
   "source": [
    "df_hechos[\"Hora\"].apply(type).value_counts()"
   ]
  },
  {
   "cell_type": "code",
   "execution_count": 33,
   "metadata": {},
   "outputs": [
    {
     "data": {
      "text/plain": [
       "array([datetime.time(4, 0), datetime.time(1, 15), datetime.time(7, 0),\n",
       "       datetime.time(0, 0), datetime.time(5, 20), datetime.time(18, 30),\n",
       "       datetime.time(19, 10), datetime.time(15, 20), datetime.time(1, 20),\n",
       "       datetime.time(11, 30)], dtype=object)"
      ]
     },
     "execution_count": 33,
     "metadata": {},
     "output_type": "execute_result"
    }
   ],
   "source": [
    "df_hechos[\"Hora\"].unique()[:10]"
   ]
  },
  {
   "cell_type": "code",
   "execution_count": 34,
   "metadata": {},
   "outputs": [],
   "source": [
    "def convertir_a_time(valor):\n",
    "    try:\n",
    "        return datetime.strptime(str(valor), '%H:%M:%S').time()\n",
    "    except (ValueError, TypeError):\n",
    "        return None"
   ]
  },
  {
   "cell_type": "markdown",
   "metadata": {},
   "source": [
    "Convertimos el tipo de dato Hora de object a time"
   ]
  },
  {
   "cell_type": "code",
   "execution_count": 35,
   "metadata": {},
   "outputs": [
    {
     "data": {
      "text/plain": [
       "Hora\n",
       "<class 'datetime.time'>    684\n",
       "<class 'NoneType'>           4\n",
       "Name: count, dtype: int64"
      ]
     },
     "execution_count": 35,
     "metadata": {},
     "output_type": "execute_result"
    }
   ],
   "source": [
    "df_hechos[\"Hora\"] = df_hechos[\"Hora\"].apply(convertir_a_time)\n",
    "df_hechos[\"Hora\"].apply(type).value_counts()"
   ]
  },
  {
   "cell_type": "markdown",
   "metadata": {},
   "source": [
    "Verificamos que hay cuatro valores nulos dentro de Hora, al ser pocos valores en comparacion con el total de registros se decidde imputar los valores con la hora mas comun"
   ]
  },
  {
   "cell_type": "code",
   "execution_count": 36,
   "metadata": {},
   "outputs": [
    {
     "data": {
      "text/plain": [
       "Hora\n",
       "<class 'datetime.time'>    688\n",
       "Name: count, dtype: int64"
      ]
     },
     "execution_count": 36,
     "metadata": {},
     "output_type": "execute_result"
    }
   ],
   "source": [
    "hora_moda = df_hechos[\"Hora\"].mode()[0]\n",
    "df_hechos[\"Hora\"].fillna(hora_moda, inplace=True)\n",
    "df_hechos[\"Hora\"].apply(type).value_counts()"
   ]
  },
  {
   "cell_type": "markdown",
   "metadata": {},
   "source": [
    "### Variable FRANJA HORARIA"
   ]
  },
  {
   "cell_type": "code",
   "execution_count": 37,
   "metadata": {},
   "outputs": [
    {
     "data": {
      "text/plain": [
       "Franja Horaria\n",
       "<class 'int'>    687\n",
       "<class 'str'>      1\n",
       "Name: count, dtype: int64"
      ]
     },
     "execution_count": 37,
     "metadata": {},
     "output_type": "execute_result"
    }
   ],
   "source": [
    "df_hechos[\"Franja Horaria\"].apply(type).value_counts()"
   ]
  },
  {
   "cell_type": "code",
   "execution_count": 38,
   "metadata": {},
   "outputs": [
    {
     "data": {
      "text/plain": [
       "array([4, 1, 7, 0, 5, 18, 19, 15, 11, 22, 16, 9, 23, 6, 10, 17, 12, 8, 21,\n",
       "       20, 14, 3, 2, 13, 'SD'], dtype=object)"
      ]
     },
     "execution_count": 38,
     "metadata": {},
     "output_type": "execute_result"
    }
   ],
   "source": [
    "df_hechos[\"Franja Horaria\"].unique()"
   ]
  },
  {
   "cell_type": "markdown",
   "metadata": {},
   "source": [
    "La variable Franja Horaria que representa la franja horaria del siniestro se procede a conventir a tipo int pero previamente en el unico registro que se encuentra SD se procede a imputar el valor "
   ]
  },
  {
   "cell_type": "code",
   "execution_count": 39,
   "metadata": {},
   "outputs": [],
   "source": [
    "franja_hora_moda = df_hechos[\"Franja Horaria\"].mode()[0]\n",
    "df_hechos[\"Franja Horaria\"] = df_hechos[\"Franja Horaria\"].replace(\"SD\",franja_hora_moda)"
   ]
  },
  {
   "cell_type": "code",
   "execution_count": 40,
   "metadata": {},
   "outputs": [
    {
     "data": {
      "text/plain": [
       "array([ 4,  1,  7,  0,  5, 18, 19, 15, 11, 22, 16,  9, 23,  6, 10, 17, 12,\n",
       "        8, 21, 20, 14,  3,  2, 13], dtype=int64)"
      ]
     },
     "execution_count": 40,
     "metadata": {},
     "output_type": "execute_result"
    }
   ],
   "source": [
    "df_hechos[\"Franja Horaria\"].unique()"
   ]
  },
  {
   "cell_type": "code",
   "execution_count": 41,
   "metadata": {},
   "outputs": [
    {
     "data": {
      "text/plain": [
       "Franja Horaria\n",
       "<class 'int'>    688\n",
       "Name: count, dtype: int64"
      ]
     },
     "execution_count": 41,
     "metadata": {},
     "output_type": "execute_result"
    }
   ],
   "source": [
    "df_hechos[\"Franja Horaria\"].apply(type).value_counts()"
   ]
  },
  {
   "cell_type": "markdown",
   "metadata": {},
   "source": [
    "### Cambio de tipo a variable calle, victima, acusado, comuna"
   ]
  },
  {
   "cell_type": "markdown",
   "metadata": {},
   "source": [
    "Convertimos las variables Tipo Calle, Victima, Comuna y Acusado de tipo object a category, dado que las mismas son variables categoricas"
   ]
  },
  {
   "cell_type": "code",
   "execution_count": 42,
   "metadata": {},
   "outputs": [],
   "source": [
    "df_hechos[\"Tipo Calle\"] = df_hechos[\"Tipo Calle\"].astype(\"category\")\n",
    "df_hechos[\"Victima\"] = df_hechos[\"Victima\"].astype(\"category\")\n",
    "df_hechos[\"Acusado\"] = df_hechos[\"Acusado\"].astype(\"category\")\n",
    "df_hechos[\"Comuna\"] = df_hechos[\"Comuna\"].astype(\"category\")"
   ]
  },
  {
   "cell_type": "code",
   "execution_count": 43,
   "metadata": {},
   "outputs": [
    {
     "data": {
      "text/plain": [
       "Tipo Calle    category\n",
       "Victima       category\n",
       "Acusado       category\n",
       "Comuna        category\n",
       "dtype: object"
      ]
     },
     "execution_count": 43,
     "metadata": {},
     "output_type": "execute_result"
    }
   ],
   "source": [
    "df_hechos[[\"Tipo Calle\", \"Victima\", \"Acusado\",\"Comuna\"]].dtypes"
   ]
  },
  {
   "cell_type": "markdown",
   "metadata": {},
   "source": [
    "### Variable Tipo de calle "
   ]
  },
  {
   "cell_type": "code",
   "execution_count": 44,
   "metadata": {},
   "outputs": [
    {
     "data": {
      "text/plain": [
       "['AVENIDA', 'GRAL PAZ', 'CALLE', 'AUTOPISTA']\n",
       "Categories (4, object): ['AUTOPISTA', 'AVENIDA', 'CALLE', 'GRAL PAZ']"
      ]
     },
     "execution_count": 44,
     "metadata": {},
     "output_type": "execute_result"
    }
   ],
   "source": [
    "df_hechos[\"Tipo Calle\"].unique()"
   ]
  },
  {
   "cell_type": "markdown",
   "metadata": {},
   "source": [
    "Para la variable Tipo Calle verificamos que hay una categoria que se denomina Gral Paz que se transformara a Autopista para que en el posterior analisis sea mas homogeneo"
   ]
  },
  {
   "cell_type": "code",
   "execution_count": 45,
   "metadata": {},
   "outputs": [
    {
     "data": {
      "text/html": [
       "<div>\n",
       "<style scoped>\n",
       "    .dataframe tbody tr th:only-of-type {\n",
       "        vertical-align: middle;\n",
       "    }\n",
       "\n",
       "    .dataframe tbody tr th {\n",
       "        vertical-align: top;\n",
       "    }\n",
       "\n",
       "    .dataframe thead th {\n",
       "        text-align: right;\n",
       "    }\n",
       "</style>\n",
       "<table border=\"1\" class=\"dataframe\">\n",
       "  <thead>\n",
       "    <tr style=\"text-align: right;\">\n",
       "      <th></th>\n",
       "      <th>Id</th>\n",
       "      <th>Nro Victimas</th>\n",
       "      <th>Fecha</th>\n",
       "      <th>Año</th>\n",
       "      <th>Mes</th>\n",
       "      <th>Dia</th>\n",
       "      <th>Hora</th>\n",
       "      <th>Franja Horaria</th>\n",
       "      <th>Lugar</th>\n",
       "      <th>Tipo Calle</th>\n",
       "      <th>Calle</th>\n",
       "      <th>Cruce</th>\n",
       "      <th>Dirección Normalizada</th>\n",
       "      <th>Comuna</th>\n",
       "      <th>Geocodificacion</th>\n",
       "      <th>Longitud</th>\n",
       "      <th>Latitud</th>\n",
       "      <th>Participantes</th>\n",
       "      <th>Victima</th>\n",
       "      <th>Acusado</th>\n",
       "    </tr>\n",
       "  </thead>\n",
       "  <tbody>\n",
       "    <tr>\n",
       "      <th>0</th>\n",
       "      <td>2016-0001</td>\n",
       "      <td>1</td>\n",
       "      <td>2016-01-01</td>\n",
       "      <td>2016</td>\n",
       "      <td>1</td>\n",
       "      <td>1</td>\n",
       "      <td>04:00:00</td>\n",
       "      <td>4</td>\n",
       "      <td>AV PIEDRA BUENA Y AV FERNANDEZ DE LA CRUZ</td>\n",
       "      <td>AVENIDA</td>\n",
       "      <td>PIEDRA BUENA AV.</td>\n",
       "      <td>FERNANDEZ DE LA CRUZ, F., GRAL. AV.</td>\n",
       "      <td>PIEDRA BUENA AV. y FERNANDEZ DE LA CRUZ, F., G...</td>\n",
       "      <td>8</td>\n",
       "      <td>Point (98896.78238426 93532.43437792)</td>\n",
       "      <td>-58.47533969</td>\n",
       "      <td>-34.68757022</td>\n",
       "      <td>MOTO-AUTO</td>\n",
       "      <td>MOTO</td>\n",
       "      <td>AUTO</td>\n",
       "    </tr>\n",
       "    <tr>\n",
       "      <th>1</th>\n",
       "      <td>2016-0002</td>\n",
       "      <td>1</td>\n",
       "      <td>2016-01-02</td>\n",
       "      <td>2016</td>\n",
       "      <td>1</td>\n",
       "      <td>2</td>\n",
       "      <td>01:15:00</td>\n",
       "      <td>1</td>\n",
       "      <td>AV GRAL PAZ  Y AV DE LOS CORRALES</td>\n",
       "      <td>AUTOPISTA</td>\n",
       "      <td>PAZ, GRAL. AV.</td>\n",
       "      <td>DE LOS CORRALES AV.</td>\n",
       "      <td>PAZ, GRAL. AV. y DE LOS CORRALES AV.</td>\n",
       "      <td>9</td>\n",
       "      <td>Point (95832.05571093 95505.41641999)</td>\n",
       "      <td>-58.50877521</td>\n",
       "      <td>-34.66977709</td>\n",
       "      <td>AUTO-PASAJEROS</td>\n",
       "      <td>AUTO</td>\n",
       "      <td>PASAJEROS</td>\n",
       "    </tr>\n",
       "    <tr>\n",
       "      <th>2</th>\n",
       "      <td>2016-0003</td>\n",
       "      <td>1</td>\n",
       "      <td>2016-01-03</td>\n",
       "      <td>2016</td>\n",
       "      <td>1</td>\n",
       "      <td>3</td>\n",
       "      <td>07:00:00</td>\n",
       "      <td>7</td>\n",
       "      <td>AV ENTRE RIOS 2034</td>\n",
       "      <td>AVENIDA</td>\n",
       "      <td>ENTRE RIOS AV.</td>\n",
       "      <td>Sin cruce</td>\n",
       "      <td>ENTRE RIOS AV. 2034</td>\n",
       "      <td>1</td>\n",
       "      <td>Point (106684.29090040 99706.57687843)</td>\n",
       "      <td>-58.39040293</td>\n",
       "      <td>-34.63189362</td>\n",
       "      <td>MOTO-AUTO</td>\n",
       "      <td>MOTO</td>\n",
       "      <td>AUTO</td>\n",
       "    </tr>\n",
       "    <tr>\n",
       "      <th>3</th>\n",
       "      <td>2016-0004</td>\n",
       "      <td>1</td>\n",
       "      <td>2016-01-10</td>\n",
       "      <td>2016</td>\n",
       "      <td>1</td>\n",
       "      <td>10</td>\n",
       "      <td>00:00:00</td>\n",
       "      <td>0</td>\n",
       "      <td>AV LARRAZABAL Y GRAL VILLEGAS CONRADO</td>\n",
       "      <td>AVENIDA</td>\n",
       "      <td>LARRAZABAL AV.</td>\n",
       "      <td>VILLEGAS, CONRADO, GRAL.</td>\n",
       "      <td>LARRAZABAL AV. y VILLEGAS, CONRADO, GRAL.</td>\n",
       "      <td>8</td>\n",
       "      <td>Point (99840.65224780 94269.16534422)</td>\n",
       "      <td>-58.46503904</td>\n",
       "      <td>-34.68092974</td>\n",
       "      <td>MOTO-SD</td>\n",
       "      <td>MOTO</td>\n",
       "      <td>SD</td>\n",
       "    </tr>\n",
       "    <tr>\n",
       "      <th>4</th>\n",
       "      <td>2016-0005</td>\n",
       "      <td>1</td>\n",
       "      <td>2016-01-21</td>\n",
       "      <td>2016</td>\n",
       "      <td>1</td>\n",
       "      <td>21</td>\n",
       "      <td>05:20:00</td>\n",
       "      <td>5</td>\n",
       "      <td>AV SAN JUAN Y PRESIDENTE LUIS SAENZ PEÑA</td>\n",
       "      <td>AVENIDA</td>\n",
       "      <td>SAN JUAN AV.</td>\n",
       "      <td>SAENZ PE?A, LUIS, PRES.</td>\n",
       "      <td>SAN JUAN AV. y SAENZ PEÃ‘A, LUIS, PRES.</td>\n",
       "      <td>1</td>\n",
       "      <td>Point (106980.32827929 100752.16915795)</td>\n",
       "      <td>-58.38718297</td>\n",
       "      <td>-34.62246630</td>\n",
       "      <td>MOTO-PASAJEROS</td>\n",
       "      <td>MOTO</td>\n",
       "      <td>PASAJEROS</td>\n",
       "    </tr>\n",
       "  </tbody>\n",
       "</table>\n",
       "</div>"
      ],
      "text/plain": [
       "          Id  Nro Victimas       Fecha   Año  Mes  Dia      Hora  \\\n",
       "0  2016-0001             1  2016-01-01  2016    1    1  04:00:00   \n",
       "1  2016-0002             1  2016-01-02  2016    1    2  01:15:00   \n",
       "2  2016-0003             1  2016-01-03  2016    1    3  07:00:00   \n",
       "3  2016-0004             1  2016-01-10  2016    1   10  00:00:00   \n",
       "4  2016-0005             1  2016-01-21  2016    1   21  05:20:00   \n",
       "\n",
       "   Franja Horaria                                      Lugar Tipo Calle  \\\n",
       "0               4  AV PIEDRA BUENA Y AV FERNANDEZ DE LA CRUZ    AVENIDA   \n",
       "1               1          AV GRAL PAZ  Y AV DE LOS CORRALES  AUTOPISTA   \n",
       "2               7                         AV ENTRE RIOS 2034    AVENIDA   \n",
       "3               0      AV LARRAZABAL Y GRAL VILLEGAS CONRADO    AVENIDA   \n",
       "4               5  AV SAN JUAN Y PRESIDENTE LUIS SAENZ PEÑA     AVENIDA   \n",
       "\n",
       "              Calle                                Cruce  \\\n",
       "0  PIEDRA BUENA AV.  FERNANDEZ DE LA CRUZ, F., GRAL. AV.   \n",
       "1    PAZ, GRAL. AV.                  DE LOS CORRALES AV.   \n",
       "2    ENTRE RIOS AV.                            Sin cruce   \n",
       "3    LARRAZABAL AV.             VILLEGAS, CONRADO, GRAL.   \n",
       "4      SAN JUAN AV.              SAENZ PE?A, LUIS, PRES.   \n",
       "\n",
       "                               Dirección Normalizada Comuna  \\\n",
       "0  PIEDRA BUENA AV. y FERNANDEZ DE LA CRUZ, F., G...      8   \n",
       "1               PAZ, GRAL. AV. y DE LOS CORRALES AV.      9   \n",
       "2                                ENTRE RIOS AV. 2034      1   \n",
       "3          LARRAZABAL AV. y VILLEGAS, CONRADO, GRAL.      8   \n",
       "4            SAN JUAN AV. y SAENZ PEÃ‘A, LUIS, PRES.      1   \n",
       "\n",
       "                           Geocodificacion      Longitud       Latitud  \\\n",
       "0    Point (98896.78238426 93532.43437792)  -58.47533969  -34.68757022   \n",
       "1    Point (95832.05571093 95505.41641999)  -58.50877521  -34.66977709   \n",
       "2   Point (106684.29090040 99706.57687843)  -58.39040293  -34.63189362   \n",
       "3    Point (99840.65224780 94269.16534422)  -58.46503904  -34.68092974   \n",
       "4  Point (106980.32827929 100752.16915795)  -58.38718297  -34.62246630   \n",
       "\n",
       "    Participantes Victima    Acusado  \n",
       "0       MOTO-AUTO    MOTO       AUTO  \n",
       "1  AUTO-PASAJEROS    AUTO  PASAJEROS  \n",
       "2       MOTO-AUTO    MOTO       AUTO  \n",
       "3         MOTO-SD    MOTO         SD  \n",
       "4  MOTO-PASAJEROS    MOTO  PASAJEROS  "
      ]
     },
     "execution_count": 45,
     "metadata": {},
     "output_type": "execute_result"
    }
   ],
   "source": [
    "df_hechos[\"Tipo Calle\"] = df_hechos[\"Tipo Calle\"].replace({\"GRAL PAZ\": \"AUTOPISTA\"})\n",
    "df_hechos.head(5)"
   ]
  },
  {
   "cell_type": "code",
   "execution_count": 46,
   "metadata": {},
   "outputs": [
    {
     "data": {
      "text/plain": [
       "['AVENIDA', 'AUTOPISTA', 'CALLE']\n",
       "Categories (3, object): ['AUTOPISTA', 'AVENIDA', 'CALLE']"
      ]
     },
     "execution_count": 46,
     "metadata": {},
     "output_type": "execute_result"
    }
   ],
   "source": [
    "df_hechos[\"Tipo Calle\"].unique()"
   ]
  },
  {
   "cell_type": "markdown",
   "metadata": {},
   "source": [
    "### La variable Victima\n"
   ]
  },
  {
   "cell_type": "code",
   "execution_count": 47,
   "metadata": {},
   "outputs": [
    {
     "data": {
      "text/plain": [
       "['MOTO', 'AUTO', 'PEATON', 'SD', 'CARGAS', 'BICICLETA', 'PASAJEROS', 'MOVIL', 'OBJETO FIJO', 'PEATON_MOTO']\n",
       "Categories (10, object): ['AUTO', 'BICICLETA', 'CARGAS', 'MOTO', ..., 'PASAJEROS', 'PEATON', 'PEATON_MOTO', 'SD']"
      ]
     },
     "execution_count": 47,
     "metadata": {},
     "output_type": "execute_result"
    }
   ],
   "source": [
    "df_hechos[\"Victima\"].unique()"
   ]
  },
  {
   "cell_type": "markdown",
   "metadata": {},
   "source": [
    "Verificando el diccionario de datos vemos que hay categorias que no se encuentran en el diccionario por lo que vamos a proceder a agregarlos a las categoria otro"
   ]
  },
  {
   "cell_type": "code",
   "execution_count": 48,
   "metadata": {},
   "outputs": [
    {
     "name": "stdout",
     "output_type": "stream",
     "text": [
      "          Id  Nro Victimas       Fecha   Año  Mes  Dia      Hora  \\\n",
      "0  2016-0001             1  2016-01-01  2016    1    1  04:00:00   \n",
      "1  2016-0002             1  2016-01-02  2016    1    2  01:15:00   \n",
      "2  2016-0003             1  2016-01-03  2016    1    3  07:00:00   \n",
      "3  2016-0004             1  2016-01-10  2016    1   10  00:00:00   \n",
      "4  2016-0005             1  2016-01-21  2016    1   21  05:20:00   \n",
      "\n",
      "   Franja Horaria                                      Lugar Tipo Calle  \\\n",
      "0               4  AV PIEDRA BUENA Y AV FERNANDEZ DE LA CRUZ    AVENIDA   \n",
      "1               1          AV GRAL PAZ  Y AV DE LOS CORRALES  AUTOPISTA   \n",
      "2               7                         AV ENTRE RIOS 2034    AVENIDA   \n",
      "3               0      AV LARRAZABAL Y GRAL VILLEGAS CONRADO    AVENIDA   \n",
      "4               5  AV SAN JUAN Y PRESIDENTE LUIS SAENZ PEÑA     AVENIDA   \n",
      "\n",
      "              Calle                                Cruce  \\\n",
      "0  PIEDRA BUENA AV.  FERNANDEZ DE LA CRUZ, F., GRAL. AV.   \n",
      "1    PAZ, GRAL. AV.                  DE LOS CORRALES AV.   \n",
      "2    ENTRE RIOS AV.                            Sin cruce   \n",
      "3    LARRAZABAL AV.             VILLEGAS, CONRADO, GRAL.   \n",
      "4      SAN JUAN AV.              SAENZ PE?A, LUIS, PRES.   \n",
      "\n",
      "                               Dirección Normalizada Comuna  \\\n",
      "0  PIEDRA BUENA AV. y FERNANDEZ DE LA CRUZ, F., G...      8   \n",
      "1               PAZ, GRAL. AV. y DE LOS CORRALES AV.      9   \n",
      "2                                ENTRE RIOS AV. 2034      1   \n",
      "3          LARRAZABAL AV. y VILLEGAS, CONRADO, GRAL.      8   \n",
      "4            SAN JUAN AV. y SAENZ PEÃ‘A, LUIS, PRES.      1   \n",
      "\n",
      "                           Geocodificacion      Longitud       Latitud  \\\n",
      "0    Point (98896.78238426 93532.43437792)  -58.47533969  -34.68757022   \n",
      "1    Point (95832.05571093 95505.41641999)  -58.50877521  -34.66977709   \n",
      "2   Point (106684.29090040 99706.57687843)  -58.39040293  -34.63189362   \n",
      "3    Point (99840.65224780 94269.16534422)  -58.46503904  -34.68092974   \n",
      "4  Point (106980.32827929 100752.16915795)  -58.38718297  -34.62246630   \n",
      "\n",
      "    Participantes Victima    Acusado  \n",
      "0       MOTO-AUTO    MOTO       AUTO  \n",
      "1  AUTO-PASAJEROS    AUTO  PASAJEROS  \n",
      "2       MOTO-AUTO    MOTO       AUTO  \n",
      "3         MOTO-SD    MOTO         SD  \n",
      "4  MOTO-PASAJEROS    MOTO  PASAJEROS  \n"
     ]
    }
   ],
   "source": [
    "if \"Victima\" in df_hechos.columns:\n",
    "    df_hechos[\"Victima\"] = df_hechos[\"Victima\"].replace({\"OBJETO FIJO\": \"OTRO\", \"PEATON_MOTO\": \"OTRO\"})\n",
    "    print(df_hechos.head())\n",
    "else:\n",
    "    print(\"La columna 'Victima' no existe en el DataFrame.\")"
   ]
  },
  {
   "cell_type": "code",
   "execution_count": 49,
   "metadata": {},
   "outputs": [
    {
     "data": {
      "text/plain": [
       "['MOTO', 'AUTO', 'PEATON', 'SD', 'CARGAS', 'BICICLETA', 'PASAJEROS', 'MOVIL', 'OTRO']\n",
       "Categories (9, object): ['AUTO', 'BICICLETA', 'CARGAS', 'MOTO', ..., 'OTRO', 'PASAJEROS', 'PEATON', 'SD']"
      ]
     },
     "execution_count": 49,
     "metadata": {},
     "output_type": "execute_result"
    }
   ],
   "source": [
    "df_hechos[\"Victima\"].unique()"
   ]
  },
  {
   "cell_type": "markdown",
   "metadata": {},
   "source": [
    "Por ahora para ambas variables se decide conservar los valores SD dado que no representan un porcentaje grande dentro de cada variable"
   ]
  },
  {
   "cell_type": "markdown",
   "metadata": {},
   "source": [
    "## Variables Latitud y Longitud"
   ]
  },
  {
   "cell_type": "markdown",
   "metadata": {},
   "source": [
    "Las variables \"Longitud\" y \"Latitud\" represetan la longitud y latitud del lugar donde ocurrio el siniestro, por lo que se proce a transformar de object a numeric "
   ]
  },
  {
   "cell_type": "code",
   "execution_count": 50,
   "metadata": {},
   "outputs": [
    {
     "data": {
      "text/plain": [
       "Latitud\n",
       "<class 'str'>    688\n",
       "Name: count, dtype: int64"
      ]
     },
     "execution_count": 50,
     "metadata": {},
     "output_type": "execute_result"
    }
   ],
   "source": [
    "df_hechos[\"Latitud\"].apply(type).value_counts()"
   ]
  },
  {
   "cell_type": "code",
   "execution_count": 51,
   "metadata": {},
   "outputs": [
    {
     "data": {
      "text/plain": [
       "Longitud\n",
       "<class 'str'>    688\n",
       "Name: count, dtype: int64"
      ]
     },
     "execution_count": 51,
     "metadata": {},
     "output_type": "execute_result"
    }
   ],
   "source": [
    "df_hechos[\"Longitud\"].apply(type).value_counts()"
   ]
  },
  {
   "cell_type": "code",
   "execution_count": 52,
   "metadata": {},
   "outputs": [],
   "source": [
    "df_hechos[\"Longitud\"] = pd.to_numeric(df_hechos[\"Longitud\"], errors=\"coerce\")\n",
    "df_hechos[\"Latitud\"] = pd.to_numeric(df_hechos[\"Latitud\"], errors=\"coerce\")"
   ]
  },
  {
   "cell_type": "code",
   "execution_count": 53,
   "metadata": {},
   "outputs": [
    {
     "name": "stdout",
     "output_type": "stream",
     "text": [
      "Latitud\n",
      "<class 'float'>    688\n",
      "Name: count, dtype: int64\n",
      "Longitud\n",
      "<class 'float'>    688\n",
      "Name: count, dtype: int64\n"
     ]
    }
   ],
   "source": [
    "print(df_hechos[\"Latitud\"].apply(type).value_counts())\n",
    "print(df_hechos[\"Longitud\"].apply(type).value_counts())"
   ]
  },
  {
   "cell_type": "code",
   "execution_count": 54,
   "metadata": {},
   "outputs": [
    {
     "name": "stdout",
     "output_type": "stream",
     "text": [
      "4\n",
      "4\n"
     ]
    }
   ],
   "source": [
    "print(df_hechos[\"Latitud\"].isnull().sum())\n",
    "print(df_hechos[\"Longitud\"].isnull().sum())"
   ]
  },
  {
   "cell_type": "code",
   "execution_count": 55,
   "metadata": {},
   "outputs": [
    {
     "data": {
      "text/html": [
       "<div>\n",
       "<style scoped>\n",
       "    .dataframe tbody tr th:only-of-type {\n",
       "        vertical-align: middle;\n",
       "    }\n",
       "\n",
       "    .dataframe tbody tr th {\n",
       "        vertical-align: top;\n",
       "    }\n",
       "\n",
       "    .dataframe thead th {\n",
       "        text-align: right;\n",
       "    }\n",
       "</style>\n",
       "<table border=\"1\" class=\"dataframe\">\n",
       "  <thead>\n",
       "    <tr style=\"text-align: right;\">\n",
       "      <th></th>\n",
       "      <th>Id</th>\n",
       "      <th>Nro Victimas</th>\n",
       "      <th>Fecha</th>\n",
       "      <th>Año</th>\n",
       "      <th>Mes</th>\n",
       "      <th>Dia</th>\n",
       "      <th>Hora</th>\n",
       "      <th>Franja Horaria</th>\n",
       "      <th>Lugar</th>\n",
       "      <th>Tipo Calle</th>\n",
       "      <th>Calle</th>\n",
       "      <th>Cruce</th>\n",
       "      <th>Dirección Normalizada</th>\n",
       "      <th>Comuna</th>\n",
       "      <th>Geocodificacion</th>\n",
       "      <th>Longitud</th>\n",
       "      <th>Latitud</th>\n",
       "      <th>Participantes</th>\n",
       "      <th>Victima</th>\n",
       "      <th>Acusado</th>\n",
       "    </tr>\n",
       "  </thead>\n",
       "  <tbody>\n",
       "    <tr>\n",
       "      <th>139</th>\n",
       "      <td>2016-0174</td>\n",
       "      <td>1</td>\n",
       "      <td>2016-12-27</td>\n",
       "      <td>2016</td>\n",
       "      <td>12</td>\n",
       "      <td>27</td>\n",
       "      <td>00:00:00</td>\n",
       "      <td>0</td>\n",
       "      <td>AUTOPISTA 25 DE MAYO</td>\n",
       "      <td>AUTOPISTA</td>\n",
       "      <td>AUTOPISTA 25 DE MAYO</td>\n",
       "      <td>Sin cruce</td>\n",
       "      <td>AUTOPISTA 25 DE MAYO</td>\n",
       "      <td>0</td>\n",
       "      <td>Point (. .)</td>\n",
       "      <td>NaN</td>\n",
       "      <td>NaN</td>\n",
       "      <td>SD-SD</td>\n",
       "      <td>SD</td>\n",
       "      <td>SD</td>\n",
       "    </tr>\n",
       "    <tr>\n",
       "      <th>176</th>\n",
       "      <td>2017-0042</td>\n",
       "      <td>1</td>\n",
       "      <td>2017-04-10</td>\n",
       "      <td>2017</td>\n",
       "      <td>4</td>\n",
       "      <td>10</td>\n",
       "      <td>09:00:00</td>\n",
       "      <td>9</td>\n",
       "      <td>AV. LEOPOLDO LUGONES PKM 6900</td>\n",
       "      <td>AUTOPISTA</td>\n",
       "      <td>LUGONES, LEOPOLDO AV.</td>\n",
       "      <td>Sin cruce</td>\n",
       "      <td>LUGONES, LEOPOLDO AV.</td>\n",
       "      <td>14</td>\n",
       "      <td>Point (. .)</td>\n",
       "      <td>NaN</td>\n",
       "      <td>NaN</td>\n",
       "      <td>MOTO-CARGAS</td>\n",
       "      <td>MOTO</td>\n",
       "      <td>CARGAS</td>\n",
       "    </tr>\n",
       "    <tr>\n",
       "      <th>256</th>\n",
       "      <td>2017-0140</td>\n",
       "      <td>1</td>\n",
       "      <td>2017-11-19</td>\n",
       "      <td>2017</td>\n",
       "      <td>11</td>\n",
       "      <td>19</td>\n",
       "      <td>23:22:17</td>\n",
       "      <td>23</td>\n",
       "      <td>AU ARTURO FRONDIZI PKM 3100</td>\n",
       "      <td>AUTOPISTA</td>\n",
       "      <td>AUTOPISTA 1 SUR PRESIDENTE ARTURO FRONDIZI</td>\n",
       "      <td>Sin cruce</td>\n",
       "      <td>AUTOPISTA 1 SUR PRESIDENTE ARTURO FRONDIZI</td>\n",
       "      <td>4</td>\n",
       "      <td>Point (. .)</td>\n",
       "      <td>NaN</td>\n",
       "      <td>NaN</td>\n",
       "      <td>MOTO-PASAJEROS</td>\n",
       "      <td>MOTO</td>\n",
       "      <td>PASAJEROS</td>\n",
       "    </tr>\n",
       "    <tr>\n",
       "      <th>559</th>\n",
       "      <td>2020-0039</td>\n",
       "      <td>1</td>\n",
       "      <td>2020-09-01</td>\n",
       "      <td>2020</td>\n",
       "      <td>9</td>\n",
       "      <td>1</td>\n",
       "      <td>19:17:42</td>\n",
       "      <td>19</td>\n",
       "      <td>MURGUIONDO 2700</td>\n",
       "      <td>CALLE</td>\n",
       "      <td>MURGUIONDO</td>\n",
       "      <td>Sin cruce</td>\n",
       "      <td>MURGUIONDO</td>\n",
       "      <td>9</td>\n",
       "      <td>Point (. .)</td>\n",
       "      <td>NaN</td>\n",
       "      <td>NaN</td>\n",
       "      <td>PEATON-CARGAS</td>\n",
       "      <td>PEATON</td>\n",
       "      <td>CARGAS</td>\n",
       "    </tr>\n",
       "  </tbody>\n",
       "</table>\n",
       "</div>"
      ],
      "text/plain": [
       "            Id  Nro Victimas       Fecha   Año  Mes  Dia      Hora  \\\n",
       "139  2016-0174             1  2016-12-27  2016   12   27  00:00:00   \n",
       "176  2017-0042             1  2017-04-10  2017    4   10  09:00:00   \n",
       "256  2017-0140             1  2017-11-19  2017   11   19  23:22:17   \n",
       "559  2020-0039             1  2020-09-01  2020    9    1  19:17:42   \n",
       "\n",
       "     Franja Horaria                          Lugar Tipo Calle  \\\n",
       "139               0           AUTOPISTA 25 DE MAYO  AUTOPISTA   \n",
       "176               9  AV. LEOPOLDO LUGONES PKM 6900  AUTOPISTA   \n",
       "256              23    AU ARTURO FRONDIZI PKM 3100  AUTOPISTA   \n",
       "559              19                MURGUIONDO 2700      CALLE   \n",
       "\n",
       "                                          Calle      Cruce  \\\n",
       "139                        AUTOPISTA 25 DE MAYO  Sin cruce   \n",
       "176                       LUGONES, LEOPOLDO AV.  Sin cruce   \n",
       "256  AUTOPISTA 1 SUR PRESIDENTE ARTURO FRONDIZI  Sin cruce   \n",
       "559                                  MURGUIONDO  Sin cruce   \n",
       "\n",
       "                          Dirección Normalizada Comuna Geocodificacion  \\\n",
       "139                        AUTOPISTA 25 DE MAYO      0     Point (. .)   \n",
       "176                       LUGONES, LEOPOLDO AV.     14     Point (. .)   \n",
       "256  AUTOPISTA 1 SUR PRESIDENTE ARTURO FRONDIZI      4     Point (. .)   \n",
       "559                                  MURGUIONDO      9     Point (. .)   \n",
       "\n",
       "     Longitud  Latitud   Participantes Victima    Acusado  \n",
       "139       NaN      NaN           SD-SD      SD         SD  \n",
       "176       NaN      NaN     MOTO-CARGAS    MOTO     CARGAS  \n",
       "256       NaN      NaN  MOTO-PASAJEROS    MOTO  PASAJEROS  \n",
       "559       NaN      NaN   PEATON-CARGAS  PEATON     CARGAS  "
      ]
     },
     "execution_count": 55,
     "metadata": {},
     "output_type": "execute_result"
    }
   ],
   "source": [
    "coordenadas_nulas = df_hechos[df_hechos[\"Latitud\"].isnull() & df_hechos[\"Longitud\"].isnull()]\n",
    "coordenadas_nulas"
   ]
  },
  {
   "cell_type": "markdown",
   "metadata": {},
   "source": [
    "En este caso debido a la faltante de datos del primer registro se procede a eliminar pero los demas registros se rellenan con las coordenadas correspondientes"
   ]
  },
  {
   "cell_type": "code",
   "execution_count": 56,
   "metadata": {},
   "outputs": [],
   "source": [
    "indice_a_eliminar = 139 \n",
    "df_hechos = df_hechos.drop(indice_a_eliminar)"
   ]
  },
  {
   "cell_type": "code",
   "execution_count": 57,
   "metadata": {},
   "outputs": [],
   "source": [
    "ubicaciones = {\n",
    "    \"AV. LEOPOLDO LUGONES PKM 6900\": (-34.54843731715158, -58.43855324867025),\n",
    "    \"AU ARTURO FRONDIZI PKM 3100\": (-34.62331225201537, -58.379564214248965),\n",
    "    \"MURGUIONDO 2700\": (-34.6605132179536, -58.49294436801899),\n",
    "}\n",
    "\n",
    "for ubicacion, (latitud, longitud) in ubicaciones.items():\n",
    "    df_hechos.loc[df_hechos[\"Lugar\"] == ubicacion, \"Latitud\"] = latitud\n",
    "    df_hechos.loc[df_hechos[\"Lugar\"] == ubicacion, \"Longitud\"] = longitud"
   ]
  },
  {
   "cell_type": "code",
   "execution_count": 58,
   "metadata": {},
   "outputs": [
    {
     "data": {
      "text/html": [
       "<div>\n",
       "<style scoped>\n",
       "    .dataframe tbody tr th:only-of-type {\n",
       "        vertical-align: middle;\n",
       "    }\n",
       "\n",
       "    .dataframe tbody tr th {\n",
       "        vertical-align: top;\n",
       "    }\n",
       "\n",
       "    .dataframe thead th {\n",
       "        text-align: right;\n",
       "    }\n",
       "</style>\n",
       "<table border=\"1\" class=\"dataframe\">\n",
       "  <thead>\n",
       "    <tr style=\"text-align: right;\">\n",
       "      <th></th>\n",
       "      <th>Id</th>\n",
       "      <th>Nro Victimas</th>\n",
       "      <th>Fecha</th>\n",
       "      <th>Año</th>\n",
       "      <th>Mes</th>\n",
       "      <th>Dia</th>\n",
       "      <th>Hora</th>\n",
       "      <th>Franja Horaria</th>\n",
       "      <th>Lugar</th>\n",
       "      <th>Tipo Calle</th>\n",
       "      <th>Calle</th>\n",
       "      <th>Cruce</th>\n",
       "      <th>Dirección Normalizada</th>\n",
       "      <th>Comuna</th>\n",
       "      <th>Geocodificacion</th>\n",
       "      <th>Longitud</th>\n",
       "      <th>Latitud</th>\n",
       "      <th>Participantes</th>\n",
       "      <th>Victima</th>\n",
       "      <th>Acusado</th>\n",
       "    </tr>\n",
       "  </thead>\n",
       "  <tbody>\n",
       "  </tbody>\n",
       "</table>\n",
       "</div>"
      ],
      "text/plain": [
       "Empty DataFrame\n",
       "Columns: [Id, Nro Victimas, Fecha, Año, Mes, Dia, Hora, Franja Horaria, Lugar, Tipo Calle, Calle, Cruce, Dirección Normalizada, Comuna, Geocodificacion, Longitud, Latitud, Participantes, Victima, Acusado]\n",
       "Index: []"
      ]
     },
     "execution_count": 58,
     "metadata": {},
     "output_type": "execute_result"
    }
   ],
   "source": [
    "coordenadas_nulas2 = df_hechos[df_hechos[\"Latitud\"].isnull() & df_hechos[\"Longitud\"].isnull()]\n",
    "coordenadas_nulas2"
   ]
  },
  {
   "cell_type": "markdown",
   "metadata": {},
   "source": [
    "### Variable Geocodificacion"
   ]
  },
  {
   "cell_type": "markdown",
   "metadata": {},
   "source": [
    "Esta variable se procedera a eliminar dado que ya se cuenta con la informacion pertinente a esta en las columnas Latitud y Longitud"
   ]
  },
  {
   "cell_type": "code",
   "execution_count": 59,
   "metadata": {},
   "outputs": [],
   "source": [
    "df_hechos.drop(columns=[\"Geocodificacion\"], inplace=True)"
   ]
  },
  {
   "cell_type": "code",
   "execution_count": 60,
   "metadata": {},
   "outputs": [
    {
     "data": {
      "text/html": [
       "<div>\n",
       "<style scoped>\n",
       "    .dataframe tbody tr th:only-of-type {\n",
       "        vertical-align: middle;\n",
       "    }\n",
       "\n",
       "    .dataframe tbody tr th {\n",
       "        vertical-align: top;\n",
       "    }\n",
       "\n",
       "    .dataframe thead th {\n",
       "        text-align: right;\n",
       "    }\n",
       "</style>\n",
       "<table border=\"1\" class=\"dataframe\">\n",
       "  <thead>\n",
       "    <tr style=\"text-align: right;\">\n",
       "      <th></th>\n",
       "      <th>Id</th>\n",
       "      <th>Nro Victimas</th>\n",
       "      <th>Fecha</th>\n",
       "      <th>Año</th>\n",
       "      <th>Mes</th>\n",
       "      <th>Dia</th>\n",
       "      <th>Hora</th>\n",
       "      <th>Franja Horaria</th>\n",
       "      <th>Lugar</th>\n",
       "      <th>Tipo Calle</th>\n",
       "      <th>Calle</th>\n",
       "      <th>Cruce</th>\n",
       "      <th>Dirección Normalizada</th>\n",
       "      <th>Comuna</th>\n",
       "      <th>Longitud</th>\n",
       "      <th>Latitud</th>\n",
       "      <th>Participantes</th>\n",
       "      <th>Victima</th>\n",
       "      <th>Acusado</th>\n",
       "    </tr>\n",
       "  </thead>\n",
       "  <tbody>\n",
       "    <tr>\n",
       "      <th>0</th>\n",
       "      <td>2016-0001</td>\n",
       "      <td>1</td>\n",
       "      <td>2016-01-01</td>\n",
       "      <td>2016</td>\n",
       "      <td>1</td>\n",
       "      <td>1</td>\n",
       "      <td>04:00:00</td>\n",
       "      <td>4</td>\n",
       "      <td>AV PIEDRA BUENA Y AV FERNANDEZ DE LA CRUZ</td>\n",
       "      <td>AVENIDA</td>\n",
       "      <td>PIEDRA BUENA AV.</td>\n",
       "      <td>FERNANDEZ DE LA CRUZ, F., GRAL. AV.</td>\n",
       "      <td>PIEDRA BUENA AV. y FERNANDEZ DE LA CRUZ, F., G...</td>\n",
       "      <td>8</td>\n",
       "      <td>-58.475340</td>\n",
       "      <td>-34.687570</td>\n",
       "      <td>MOTO-AUTO</td>\n",
       "      <td>MOTO</td>\n",
       "      <td>AUTO</td>\n",
       "    </tr>\n",
       "    <tr>\n",
       "      <th>1</th>\n",
       "      <td>2016-0002</td>\n",
       "      <td>1</td>\n",
       "      <td>2016-01-02</td>\n",
       "      <td>2016</td>\n",
       "      <td>1</td>\n",
       "      <td>2</td>\n",
       "      <td>01:15:00</td>\n",
       "      <td>1</td>\n",
       "      <td>AV GRAL PAZ  Y AV DE LOS CORRALES</td>\n",
       "      <td>AUTOPISTA</td>\n",
       "      <td>PAZ, GRAL. AV.</td>\n",
       "      <td>DE LOS CORRALES AV.</td>\n",
       "      <td>PAZ, GRAL. AV. y DE LOS CORRALES AV.</td>\n",
       "      <td>9</td>\n",
       "      <td>-58.508775</td>\n",
       "      <td>-34.669777</td>\n",
       "      <td>AUTO-PASAJEROS</td>\n",
       "      <td>AUTO</td>\n",
       "      <td>PASAJEROS</td>\n",
       "    </tr>\n",
       "  </tbody>\n",
       "</table>\n",
       "</div>"
      ],
      "text/plain": [
       "          Id  Nro Victimas       Fecha   Año  Mes  Dia      Hora  \\\n",
       "0  2016-0001             1  2016-01-01  2016    1    1  04:00:00   \n",
       "1  2016-0002             1  2016-01-02  2016    1    2  01:15:00   \n",
       "\n",
       "   Franja Horaria                                      Lugar Tipo Calle  \\\n",
       "0               4  AV PIEDRA BUENA Y AV FERNANDEZ DE LA CRUZ    AVENIDA   \n",
       "1               1          AV GRAL PAZ  Y AV DE LOS CORRALES  AUTOPISTA   \n",
       "\n",
       "              Calle                                Cruce  \\\n",
       "0  PIEDRA BUENA AV.  FERNANDEZ DE LA CRUZ, F., GRAL. AV.   \n",
       "1    PAZ, GRAL. AV.                  DE LOS CORRALES AV.   \n",
       "\n",
       "                               Dirección Normalizada Comuna   Longitud  \\\n",
       "0  PIEDRA BUENA AV. y FERNANDEZ DE LA CRUZ, F., G...      8 -58.475340   \n",
       "1               PAZ, GRAL. AV. y DE LOS CORRALES AV.      9 -58.508775   \n",
       "\n",
       "     Latitud   Participantes Victima    Acusado  \n",
       "0 -34.687570       MOTO-AUTO    MOTO       AUTO  \n",
       "1 -34.669777  AUTO-PASAJEROS    AUTO  PASAJEROS  "
      ]
     },
     "execution_count": 60,
     "metadata": {},
     "output_type": "execute_result"
    }
   ],
   "source": [
    "df_hechos.head(2)"
   ]
  },
  {
   "cell_type": "code",
   "execution_count": 61,
   "metadata": {},
   "outputs": [],
   "source": [
    "df_hechos = df_hechos.reset_index(drop=True)"
   ]
  },
  {
   "cell_type": "markdown",
   "metadata": {},
   "source": [
    "## DATAFRAME VICTIMAS"
   ]
  },
  {
   "cell_type": "code",
   "execution_count": 62,
   "metadata": {},
   "outputs": [
    {
     "data": {
      "text/plain": [
       "(717, 10)"
      ]
     },
     "execution_count": 62,
     "metadata": {},
     "output_type": "execute_result"
    }
   ],
   "source": [
    "df_victimas.shape"
   ]
  },
  {
   "cell_type": "code",
   "execution_count": 63,
   "metadata": {},
   "outputs": [
    {
     "data": {
      "text/plain": [
       "Id                             object\n",
       "Fecha                  datetime64[ns]\n",
       "Año                             int64\n",
       "Mes                             int64\n",
       "Dia                             int64\n",
       "Rol                            object\n",
       "Victima                        object\n",
       "Sexo                           object\n",
       "Edad                           object\n",
       "Fecha_fallecimiento            object\n",
       "dtype: object"
      ]
     },
     "execution_count": 63,
     "metadata": {},
     "output_type": "execute_result"
    }
   ],
   "source": [
    "df_victimas.dtypes"
   ]
  },
  {
   "cell_type": "code",
   "execution_count": 64,
   "metadata": {},
   "outputs": [
    {
     "name": "stdout",
     "output_type": "stream",
     "text": [
      "Columna 'Id': 0 veces que aparece 'SD'\n",
      "Columna 'Fecha': 0 veces que aparece 'SD'\n",
      "Columna 'Año': 0 veces que aparece 'SD'\n",
      "Columna 'Mes': 0 veces que aparece 'SD'\n",
      "Columna 'Dia': 0 veces que aparece 'SD'\n",
      "Columna 'Rol': 11 veces que aparece 'SD'\n",
      "Columna 'Victima': 9 veces que aparece 'SD'\n",
      "Columna 'Sexo': 6 veces que aparece 'SD'\n",
      "Columna 'Edad': 53 veces que aparece 'SD'\n",
      "Columna 'Fecha_fallecimiento': 68 veces que aparece 'SD'\n"
     ]
    }
   ],
   "source": [
    "columnas_sd_dicc2 = {}  \n",
    "\n",
    "for columna2 in df_victimas.columns:\n",
    "    cantidad2 = (df_victimas[columna2] == 'SD').sum()\n",
    "    columnas_sd_dicc2[columna2] = cantidad2\n",
    "\n",
    "for columna2, conteo2 in columnas_sd_dicc2.items():\n",
    "    print(f\"Columna '{columna2}': {conteo2} veces que aparece 'SD'\")"
   ]
  },
  {
   "cell_type": "markdown",
   "metadata": {},
   "source": [
    "### Variable EDAD"
   ]
  },
  {
   "cell_type": "code",
   "execution_count": 65,
   "metadata": {},
   "outputs": [
    {
     "data": {
      "text/plain": [
       "Edad\n",
       "<class 'int'>    664\n",
       "<class 'str'>     53\n",
       "Name: count, dtype: int64"
      ]
     },
     "execution_count": 65,
     "metadata": {},
     "output_type": "execute_result"
    }
   ],
   "source": [
    "df_victimas[\"Edad\"].apply(type).value_counts()"
   ]
  },
  {
   "cell_type": "code",
   "execution_count": 66,
   "metadata": {},
   "outputs": [
    {
     "data": {
      "text/plain": [
       "array([19, 70, 30, 18, 29, 22, 16, 59, 65, 34, 41, 50, 38, 21, 52, 36, 20,\n",
       "       54, 'SD', 56, 24, 78, 79, 26, 57, 37, 58, 23, 60, 42, 53, 51, 40,\n",
       "       87, 76, 75, 35, 80, 43, 45, 67, 27, 55, 49, 81, 25, 33, 46, 83, 39,\n",
       "       28, 7, 48, 4, 82, 32, 17, 47, 61, 10, 95, 73, 84, 66, 85, 1, 15,\n",
       "       13, 77, 44, 31, 62, 74, 71, 11, 86, 69, 72, 12, 63, 92, 68, 91, 64,\n",
       "       5, 88], dtype=object)"
      ]
     },
     "execution_count": 66,
     "metadata": {},
     "output_type": "execute_result"
    }
   ],
   "source": [
    "df_victimas[\"Edad\"].unique()"
   ]
  },
  {
   "cell_type": "markdown",
   "metadata": {},
   "source": [
    "Para la variable podemos observar que la mayoria de los registros se encuentran en el formato correcto pero algunos tienen formato string por lo que se procede a corregir"
   ]
  },
  {
   "cell_type": "code",
   "execution_count": 67,
   "metadata": {},
   "outputs": [
    {
     "name": "stdout",
     "output_type": "stream",
     "text": [
      "Tipos de datos de la variable: Edad\n",
      "<class 'float'>    717\n",
      "Name: count, dtype: int64\n"
     ]
    }
   ],
   "source": [
    "df_victimas[\"Edad\"] = pd.to_numeric(df_victimas[\"Edad\"], errors='coerce')\n",
    "df_victimas[\"Edad\"] = df_victimas.groupby(\"Sexo\")[\"Edad\"].transform(lambda x: x.fillna(x.median()))\n",
    "tipo_edad = df_victimas[\"Edad\"].apply(type).value_counts()\n",
    "print(\"Tipos de datos de la variable:\",tipo_edad)"
   ]
  },
  {
   "cell_type": "code",
   "execution_count": 68,
   "metadata": {},
   "outputs": [
    {
     "data": {
      "text/plain": [
       "Id                     0\n",
       "Fecha                  0\n",
       "Año                    0\n",
       "Mes                    0\n",
       "Dia                    0\n",
       "Rol                    0\n",
       "Victima                0\n",
       "Sexo                   0\n",
       "Edad                   6\n",
       "Fecha_fallecimiento    0\n",
       "dtype: int64"
      ]
     },
     "execution_count": 68,
     "metadata": {},
     "output_type": "execute_result"
    }
   ],
   "source": [
    "df_victimas.isnull().sum()"
   ]
  },
  {
   "cell_type": "markdown",
   "metadata": {},
   "source": [
    "### Variable FECHA FALLECIMIENTO"
   ]
  },
  {
   "cell_type": "code",
   "execution_count": 69,
   "metadata": {},
   "outputs": [
    {
     "data": {
      "text/plain": [
       "Fecha_fallecimiento\n",
       "<class 'datetime.datetime'>    648\n",
       "<class 'str'>                   69\n",
       "Name: count, dtype: int64"
      ]
     },
     "execution_count": 69,
     "metadata": {},
     "output_type": "execute_result"
    }
   ],
   "source": [
    "df_victimas[\"Fecha_fallecimiento\"].apply(type).value_counts()"
   ]
  },
  {
   "cell_type": "markdown",
   "metadata": {},
   "source": [
    "Para dicha variable no se realizara la trasnformacion debido a que no sera necesaria para el posterior analisis del caso, por lo que procederemos a eliminarla"
   ]
  },
  {
   "cell_type": "code",
   "execution_count": 70,
   "metadata": {},
   "outputs": [],
   "source": [
    "df_victimas= df_victimas.drop(columns=[\"Fecha_fallecimiento\"], axis=1)"
   ]
  },
  {
   "cell_type": "code",
   "execution_count": 71,
   "metadata": {},
   "outputs": [
    {
     "name": "stdout",
     "output_type": "stream",
     "text": [
      "Columna 'Id': 0 veces que aparece 'SD'\n",
      "Columna 'Fecha': 0 veces que aparece 'SD'\n",
      "Columna 'Año': 0 veces que aparece 'SD'\n",
      "Columna 'Mes': 0 veces que aparece 'SD'\n",
      "Columna 'Dia': 0 veces que aparece 'SD'\n",
      "Columna 'Rol': 11 veces que aparece 'SD'\n",
      "Columna 'Victima': 9 veces que aparece 'SD'\n",
      "Columna 'Sexo': 6 veces que aparece 'SD'\n",
      "Columna 'Edad': 0 veces que aparece 'SD'\n"
     ]
    }
   ],
   "source": [
    "columnas_sd_dicc2 = {}  \n",
    "\n",
    "for columna2 in df_victimas.columns:\n",
    "    cantidad2 = (df_victimas[columna2] == 'SD').sum()\n",
    "    columnas_sd_dicc2[columna2] = cantidad2\n",
    "\n",
    "for columna2, conteo2 in columnas_sd_dicc2.items():\n",
    "    print(f\"Columna '{columna2}': {conteo2} veces que aparece 'SD'\")"
   ]
  },
  {
   "cell_type": "markdown",
   "metadata": {},
   "source": [
    "### Variable ROL"
   ]
  },
  {
   "cell_type": "markdown",
   "metadata": {},
   "source": [
    "Al comprobarse que son pocos los datos donde falta la información de la variable \"Rol\", se decide imputar el valor mas frecuente para cada columna."
   ]
  },
  {
   "cell_type": "code",
   "execution_count": 72,
   "metadata": {},
   "outputs": [],
   "source": [
    "moda_rol = df_victimas[\"Rol\"].mode()[0]\n",
    "df_victimas.loc[df_victimas[\"Rol\"] == \"SD\", \"Rol\"] = moda_rol"
   ]
  },
  {
   "cell_type": "code",
   "execution_count": 73,
   "metadata": {},
   "outputs": [],
   "source": [
    "df_victimas = df_victimas.reset_index(drop=True)"
   ]
  },
  {
   "cell_type": "code",
   "execution_count": 74,
   "metadata": {},
   "outputs": [
    {
     "data": {
      "text/html": [
       "<div>\n",
       "<style scoped>\n",
       "    .dataframe tbody tr th:only-of-type {\n",
       "        vertical-align: middle;\n",
       "    }\n",
       "\n",
       "    .dataframe tbody tr th {\n",
       "        vertical-align: top;\n",
       "    }\n",
       "\n",
       "    .dataframe thead th {\n",
       "        text-align: right;\n",
       "    }\n",
       "</style>\n",
       "<table border=\"1\" class=\"dataframe\">\n",
       "  <thead>\n",
       "    <tr style=\"text-align: right;\">\n",
       "      <th></th>\n",
       "      <th>Id</th>\n",
       "      <th>Fecha</th>\n",
       "      <th>Año</th>\n",
       "      <th>Mes</th>\n",
       "      <th>Dia</th>\n",
       "      <th>Rol</th>\n",
       "      <th>Victima</th>\n",
       "      <th>Sexo</th>\n",
       "      <th>Edad</th>\n",
       "    </tr>\n",
       "  </thead>\n",
       "  <tbody>\n",
       "    <tr>\n",
       "      <th>0</th>\n",
       "      <td>2016-0001</td>\n",
       "      <td>2016-01-01</td>\n",
       "      <td>2016</td>\n",
       "      <td>1</td>\n",
       "      <td>1</td>\n",
       "      <td>CONDUCTOR</td>\n",
       "      <td>MOTO</td>\n",
       "      <td>MASCULINO</td>\n",
       "      <td>19.0</td>\n",
       "    </tr>\n",
       "    <tr>\n",
       "      <th>1</th>\n",
       "      <td>2016-0002</td>\n",
       "      <td>2016-01-02</td>\n",
       "      <td>2016</td>\n",
       "      <td>1</td>\n",
       "      <td>2</td>\n",
       "      <td>CONDUCTOR</td>\n",
       "      <td>AUTO</td>\n",
       "      <td>MASCULINO</td>\n",
       "      <td>70.0</td>\n",
       "    </tr>\n",
       "    <tr>\n",
       "      <th>2</th>\n",
       "      <td>2016-0003</td>\n",
       "      <td>2016-01-03</td>\n",
       "      <td>2016</td>\n",
       "      <td>1</td>\n",
       "      <td>3</td>\n",
       "      <td>CONDUCTOR</td>\n",
       "      <td>MOTO</td>\n",
       "      <td>MASCULINO</td>\n",
       "      <td>30.0</td>\n",
       "    </tr>\n",
       "    <tr>\n",
       "      <th>3</th>\n",
       "      <td>2016-0004</td>\n",
       "      <td>2016-01-10</td>\n",
       "      <td>2016</td>\n",
       "      <td>1</td>\n",
       "      <td>10</td>\n",
       "      <td>CONDUCTOR</td>\n",
       "      <td>MOTO</td>\n",
       "      <td>MASCULINO</td>\n",
       "      <td>18.0</td>\n",
       "    </tr>\n",
       "    <tr>\n",
       "      <th>4</th>\n",
       "      <td>2016-0005</td>\n",
       "      <td>2016-01-21</td>\n",
       "      <td>2016</td>\n",
       "      <td>1</td>\n",
       "      <td>21</td>\n",
       "      <td>CONDUCTOR</td>\n",
       "      <td>MOTO</td>\n",
       "      <td>MASCULINO</td>\n",
       "      <td>29.0</td>\n",
       "    </tr>\n",
       "  </tbody>\n",
       "</table>\n",
       "</div>"
      ],
      "text/plain": [
       "          Id      Fecha   Año  Mes  Dia        Rol Victima       Sexo  Edad\n",
       "0  2016-0001 2016-01-01  2016    1    1  CONDUCTOR    MOTO  MASCULINO  19.0\n",
       "1  2016-0002 2016-01-02  2016    1    2  CONDUCTOR    AUTO  MASCULINO  70.0\n",
       "2  2016-0003 2016-01-03  2016    1    3  CONDUCTOR    MOTO  MASCULINO  30.0\n",
       "3  2016-0004 2016-01-10  2016    1   10  CONDUCTOR    MOTO  MASCULINO  18.0\n",
       "4  2016-0005 2016-01-21  2016    1   21  CONDUCTOR    MOTO  MASCULINO  29.0"
      ]
     },
     "execution_count": 74,
     "metadata": {},
     "output_type": "execute_result"
    }
   ],
   "source": [
    "df_victimas.head(5)"
   ]
  },
  {
   "cell_type": "code",
   "execution_count": 75,
   "metadata": {},
   "outputs": [
    {
     "name": "stdout",
     "output_type": "stream",
     "text": [
      "<class 'pandas.core.frame.DataFrame'>\n",
      "RangeIndex: 717 entries, 0 to 716\n",
      "Data columns (total 9 columns):\n",
      " #   Column   Non-Null Count  Dtype         \n",
      "---  ------   --------------  -----         \n",
      " 0   Id       717 non-null    object        \n",
      " 1   Fecha    717 non-null    datetime64[ns]\n",
      " 2   Año      717 non-null    int64         \n",
      " 3   Mes      717 non-null    int64         \n",
      " 4   Dia      717 non-null    int64         \n",
      " 5   Rol      717 non-null    object        \n",
      " 6   Victima  717 non-null    object        \n",
      " 7   Sexo     717 non-null    object        \n",
      " 8   Edad     711 non-null    float64       \n",
      "dtypes: datetime64[ns](1), float64(1), int64(3), object(4)\n",
      "memory usage: 50.5+ KB\n"
     ]
    }
   ],
   "source": [
    "df_victimas.info()"
   ]
  },
  {
   "cell_type": "code",
   "execution_count": 76,
   "metadata": {},
   "outputs": [
    {
     "data": {
      "text/plain": [
       "Id         0\n",
       "Fecha      0\n",
       "Año        0\n",
       "Mes        0\n",
       "Dia        0\n",
       "Rol        0\n",
       "Victima    0\n",
       "Sexo       0\n",
       "Edad       6\n",
       "dtype: int64"
      ]
     },
     "execution_count": 76,
     "metadata": {},
     "output_type": "execute_result"
    }
   ],
   "source": [
    "df_victimas.isnull().sum()"
   ]
  },
  {
   "cell_type": "markdown",
   "metadata": {},
   "source": [
    "## CREACION DE NUEVAS VARIABLES\n",
    "Nuevas variables con nuevas características mediante la extracción de información valiosa de las columnas ya existentes."
   ]
  },
  {
   "cell_type": "markdown",
   "metadata": {},
   "source": [
    "### Variable DIA SEMANA\n",
    "Indica el dia de la semana donde sucedio el hecho"
   ]
  },
  {
   "cell_type": "code",
   "execution_count": 77,
   "metadata": {},
   "outputs": [
    {
     "data": {
      "text/plain": [
       "dtype('O')"
      ]
     },
     "execution_count": 77,
     "metadata": {},
     "output_type": "execute_result"
    }
   ],
   "source": [
    "df_hechos[\"Fecha\"].dtype"
   ]
  },
  {
   "cell_type": "code",
   "execution_count": 78,
   "metadata": {},
   "outputs": [
    {
     "data": {
      "text/html": [
       "<div>\n",
       "<style scoped>\n",
       "    .dataframe tbody tr th:only-of-type {\n",
       "        vertical-align: middle;\n",
       "    }\n",
       "\n",
       "    .dataframe tbody tr th {\n",
       "        vertical-align: top;\n",
       "    }\n",
       "\n",
       "    .dataframe thead th {\n",
       "        text-align: right;\n",
       "    }\n",
       "</style>\n",
       "<table border=\"1\" class=\"dataframe\">\n",
       "  <thead>\n",
       "    <tr style=\"text-align: right;\">\n",
       "      <th></th>\n",
       "      <th>Id</th>\n",
       "      <th>Nro Victimas</th>\n",
       "      <th>Fecha</th>\n",
       "      <th>Año</th>\n",
       "      <th>Mes</th>\n",
       "      <th>Dia</th>\n",
       "      <th>Hora</th>\n",
       "      <th>Franja Horaria</th>\n",
       "      <th>Lugar</th>\n",
       "      <th>Tipo Calle</th>\n",
       "      <th>Calle</th>\n",
       "      <th>Cruce</th>\n",
       "      <th>Dirección Normalizada</th>\n",
       "      <th>Comuna</th>\n",
       "      <th>Longitud</th>\n",
       "      <th>Latitud</th>\n",
       "      <th>Participantes</th>\n",
       "      <th>Victima</th>\n",
       "      <th>Acusado</th>\n",
       "      <th>DiaSemana</th>\n",
       "    </tr>\n",
       "  </thead>\n",
       "  <tbody>\n",
       "    <tr>\n",
       "      <th>0</th>\n",
       "      <td>2016-0001</td>\n",
       "      <td>1</td>\n",
       "      <td>2016-01-01</td>\n",
       "      <td>2016</td>\n",
       "      <td>1</td>\n",
       "      <td>1</td>\n",
       "      <td>04:00:00</td>\n",
       "      <td>4</td>\n",
       "      <td>AV PIEDRA BUENA Y AV FERNANDEZ DE LA CRUZ</td>\n",
       "      <td>AVENIDA</td>\n",
       "      <td>PIEDRA BUENA AV.</td>\n",
       "      <td>FERNANDEZ DE LA CRUZ, F., GRAL. AV.</td>\n",
       "      <td>PIEDRA BUENA AV. y FERNANDEZ DE LA CRUZ, F., G...</td>\n",
       "      <td>8</td>\n",
       "      <td>-58.475340</td>\n",
       "      <td>-34.687570</td>\n",
       "      <td>MOTO-AUTO</td>\n",
       "      <td>MOTO</td>\n",
       "      <td>AUTO</td>\n",
       "      <td>Friday</td>\n",
       "    </tr>\n",
       "    <tr>\n",
       "      <th>1</th>\n",
       "      <td>2016-0002</td>\n",
       "      <td>1</td>\n",
       "      <td>2016-01-02</td>\n",
       "      <td>2016</td>\n",
       "      <td>1</td>\n",
       "      <td>2</td>\n",
       "      <td>01:15:00</td>\n",
       "      <td>1</td>\n",
       "      <td>AV GRAL PAZ  Y AV DE LOS CORRALES</td>\n",
       "      <td>AUTOPISTA</td>\n",
       "      <td>PAZ, GRAL. AV.</td>\n",
       "      <td>DE LOS CORRALES AV.</td>\n",
       "      <td>PAZ, GRAL. AV. y DE LOS CORRALES AV.</td>\n",
       "      <td>9</td>\n",
       "      <td>-58.508775</td>\n",
       "      <td>-34.669777</td>\n",
       "      <td>AUTO-PASAJEROS</td>\n",
       "      <td>AUTO</td>\n",
       "      <td>PASAJEROS</td>\n",
       "      <td>Saturday</td>\n",
       "    </tr>\n",
       "  </tbody>\n",
       "</table>\n",
       "</div>"
      ],
      "text/plain": [
       "          Id  Nro Victimas       Fecha   Año  Mes  Dia      Hora  \\\n",
       "0  2016-0001             1  2016-01-01  2016    1    1  04:00:00   \n",
       "1  2016-0002             1  2016-01-02  2016    1    2  01:15:00   \n",
       "\n",
       "   Franja Horaria                                      Lugar Tipo Calle  \\\n",
       "0               4  AV PIEDRA BUENA Y AV FERNANDEZ DE LA CRUZ    AVENIDA   \n",
       "1               1          AV GRAL PAZ  Y AV DE LOS CORRALES  AUTOPISTA   \n",
       "\n",
       "              Calle                                Cruce  \\\n",
       "0  PIEDRA BUENA AV.  FERNANDEZ DE LA CRUZ, F., GRAL. AV.   \n",
       "1    PAZ, GRAL. AV.                  DE LOS CORRALES AV.   \n",
       "\n",
       "                               Dirección Normalizada Comuna   Longitud  \\\n",
       "0  PIEDRA BUENA AV. y FERNANDEZ DE LA CRUZ, F., G...      8 -58.475340   \n",
       "1               PAZ, GRAL. AV. y DE LOS CORRALES AV.      9 -58.508775   \n",
       "\n",
       "     Latitud   Participantes Victima    Acusado DiaSemana  \n",
       "0 -34.687570       MOTO-AUTO    MOTO       AUTO    Friday  \n",
       "1 -34.669777  AUTO-PASAJEROS    AUTO  PASAJEROS  Saturday  "
      ]
     },
     "execution_count": 78,
     "metadata": {},
     "output_type": "execute_result"
    }
   ],
   "source": [
    "df_hechos[\"DiaSemana\"] = df_hechos[\"Fecha\"].apply(lambda x: calendar.day_name[x.weekday()])\n",
    "df_hechos.head(2)"
   ]
  },
  {
   "cell_type": "code",
   "execution_count": 79,
   "metadata": {},
   "outputs": [
    {
     "data": {
      "text/html": [
       "<div>\n",
       "<style scoped>\n",
       "    .dataframe tbody tr th:only-of-type {\n",
       "        vertical-align: middle;\n",
       "    }\n",
       "\n",
       "    .dataframe tbody tr th {\n",
       "        vertical-align: top;\n",
       "    }\n",
       "\n",
       "    .dataframe thead th {\n",
       "        text-align: right;\n",
       "    }\n",
       "</style>\n",
       "<table border=\"1\" class=\"dataframe\">\n",
       "  <thead>\n",
       "    <tr style=\"text-align: right;\">\n",
       "      <th></th>\n",
       "      <th>Id</th>\n",
       "      <th>Nro Victimas</th>\n",
       "      <th>Fecha</th>\n",
       "      <th>Año</th>\n",
       "      <th>Mes</th>\n",
       "      <th>Dia</th>\n",
       "      <th>Hora</th>\n",
       "      <th>Franja Horaria</th>\n",
       "      <th>Lugar</th>\n",
       "      <th>Tipo Calle</th>\n",
       "      <th>Calle</th>\n",
       "      <th>Cruce</th>\n",
       "      <th>Dirección Normalizada</th>\n",
       "      <th>Comuna</th>\n",
       "      <th>Longitud</th>\n",
       "      <th>Latitud</th>\n",
       "      <th>Participantes</th>\n",
       "      <th>Victima</th>\n",
       "      <th>Acusado</th>\n",
       "      <th>DiaSemana</th>\n",
       "    </tr>\n",
       "  </thead>\n",
       "  <tbody>\n",
       "    <tr>\n",
       "      <th>0</th>\n",
       "      <td>2016-0001</td>\n",
       "      <td>1</td>\n",
       "      <td>2016-01-01</td>\n",
       "      <td>2016</td>\n",
       "      <td>1</td>\n",
       "      <td>1</td>\n",
       "      <td>04:00:00</td>\n",
       "      <td>4</td>\n",
       "      <td>AV PIEDRA BUENA Y AV FERNANDEZ DE LA CRUZ</td>\n",
       "      <td>AVENIDA</td>\n",
       "      <td>PIEDRA BUENA AV.</td>\n",
       "      <td>FERNANDEZ DE LA CRUZ, F., GRAL. AV.</td>\n",
       "      <td>PIEDRA BUENA AV. y FERNANDEZ DE LA CRUZ, F., G...</td>\n",
       "      <td>8</td>\n",
       "      <td>-58.475340</td>\n",
       "      <td>-34.687570</td>\n",
       "      <td>MOTO-AUTO</td>\n",
       "      <td>MOTO</td>\n",
       "      <td>AUTO</td>\n",
       "      <td>Viernes</td>\n",
       "    </tr>\n",
       "    <tr>\n",
       "      <th>1</th>\n",
       "      <td>2016-0002</td>\n",
       "      <td>1</td>\n",
       "      <td>2016-01-02</td>\n",
       "      <td>2016</td>\n",
       "      <td>1</td>\n",
       "      <td>2</td>\n",
       "      <td>01:15:00</td>\n",
       "      <td>1</td>\n",
       "      <td>AV GRAL PAZ  Y AV DE LOS CORRALES</td>\n",
       "      <td>AUTOPISTA</td>\n",
       "      <td>PAZ, GRAL. AV.</td>\n",
       "      <td>DE LOS CORRALES AV.</td>\n",
       "      <td>PAZ, GRAL. AV. y DE LOS CORRALES AV.</td>\n",
       "      <td>9</td>\n",
       "      <td>-58.508775</td>\n",
       "      <td>-34.669777</td>\n",
       "      <td>AUTO-PASAJEROS</td>\n",
       "      <td>AUTO</td>\n",
       "      <td>PASAJEROS</td>\n",
       "      <td>Sábado</td>\n",
       "    </tr>\n",
       "  </tbody>\n",
       "</table>\n",
       "</div>"
      ],
      "text/plain": [
       "          Id  Nro Victimas       Fecha   Año  Mes  Dia      Hora  \\\n",
       "0  2016-0001             1  2016-01-01  2016    1    1  04:00:00   \n",
       "1  2016-0002             1  2016-01-02  2016    1    2  01:15:00   \n",
       "\n",
       "   Franja Horaria                                      Lugar Tipo Calle  \\\n",
       "0               4  AV PIEDRA BUENA Y AV FERNANDEZ DE LA CRUZ    AVENIDA   \n",
       "1               1          AV GRAL PAZ  Y AV DE LOS CORRALES  AUTOPISTA   \n",
       "\n",
       "              Calle                                Cruce  \\\n",
       "0  PIEDRA BUENA AV.  FERNANDEZ DE LA CRUZ, F., GRAL. AV.   \n",
       "1    PAZ, GRAL. AV.                  DE LOS CORRALES AV.   \n",
       "\n",
       "                               Dirección Normalizada Comuna   Longitud  \\\n",
       "0  PIEDRA BUENA AV. y FERNANDEZ DE LA CRUZ, F., G...      8 -58.475340   \n",
       "1               PAZ, GRAL. AV. y DE LOS CORRALES AV.      9 -58.508775   \n",
       "\n",
       "     Latitud   Participantes Victima    Acusado DiaSemana  \n",
       "0 -34.687570       MOTO-AUTO    MOTO       AUTO   Viernes  \n",
       "1 -34.669777  AUTO-PASAJEROS    AUTO  PASAJEROS    Sábado  "
      ]
     },
     "execution_count": 79,
     "metadata": {},
     "output_type": "execute_result"
    }
   ],
   "source": [
    "traduccion_dias = {\n",
    "    'Monday': 'Lunes',\n",
    "    'Tuesday': 'Martes',\n",
    "    'Wednesday': 'Miércoles',\n",
    "    'Thursday': 'Jueves',\n",
    "    'Friday': 'Viernes',\n",
    "    'Saturday': 'Sábado',\n",
    "    'Sunday': 'Domingo'\n",
    "}\n",
    "\n",
    "df_hechos[\"DiaSemana\"] = df_hechos[\"DiaSemana\"].map(traduccion_dias)\n",
    "df_hechos.head(2)"
   ]
  },
  {
   "cell_type": "markdown",
   "metadata": {},
   "source": [
    "### Variable MOMENTODIA\n",
    "Indica en que momento del dia sucedio el hecho: mañana, tarde o noche\n"
   ]
  },
  {
   "cell_type": "code",
   "execution_count": 80,
   "metadata": {},
   "outputs": [],
   "source": [
    "def asignar_momento_dia(hora):\n",
    "    if pd.notnull(hora) and 6 <= hora.hour < 12:\n",
    "        return \"Mañana\"\n",
    "    elif pd.notnull(hora) and 12 <= hora.hour < 18:\n",
    "        return \"Tarde\"\n",
    "    elif pd.notnull(hora) and 18 <= hora.hour < 24:\n",
    "        return \"Noche\"\n",
    "    elif pd.notnull(hora):\n",
    "        return \"Madrugada\"\n",
    "    else:\n",
    "        return \"Sin Dato\"  "
   ]
  },
  {
   "cell_type": "code",
   "execution_count": 81,
   "metadata": {},
   "outputs": [
    {
     "data": {
      "text/html": [
       "<div>\n",
       "<style scoped>\n",
       "    .dataframe tbody tr th:only-of-type {\n",
       "        vertical-align: middle;\n",
       "    }\n",
       "\n",
       "    .dataframe tbody tr th {\n",
       "        vertical-align: top;\n",
       "    }\n",
       "\n",
       "    .dataframe thead th {\n",
       "        text-align: right;\n",
       "    }\n",
       "</style>\n",
       "<table border=\"1\" class=\"dataframe\">\n",
       "  <thead>\n",
       "    <tr style=\"text-align: right;\">\n",
       "      <th></th>\n",
       "      <th>Hora</th>\n",
       "      <th>MomentoDia</th>\n",
       "    </tr>\n",
       "  </thead>\n",
       "  <tbody>\n",
       "    <tr>\n",
       "      <th>0</th>\n",
       "      <td>04:00:00</td>\n",
       "      <td>Madrugada</td>\n",
       "    </tr>\n",
       "    <tr>\n",
       "      <th>1</th>\n",
       "      <td>01:15:00</td>\n",
       "      <td>Madrugada</td>\n",
       "    </tr>\n",
       "    <tr>\n",
       "      <th>2</th>\n",
       "      <td>07:00:00</td>\n",
       "      <td>Mañana</td>\n",
       "    </tr>\n",
       "    <tr>\n",
       "      <th>3</th>\n",
       "      <td>00:00:00</td>\n",
       "      <td>Madrugada</td>\n",
       "    </tr>\n",
       "    <tr>\n",
       "      <th>4</th>\n",
       "      <td>05:20:00</td>\n",
       "      <td>Madrugada</td>\n",
       "    </tr>\n",
       "    <tr>\n",
       "      <th>5</th>\n",
       "      <td>18:30:00</td>\n",
       "      <td>Noche</td>\n",
       "    </tr>\n",
       "    <tr>\n",
       "      <th>6</th>\n",
       "      <td>19:10:00</td>\n",
       "      <td>Noche</td>\n",
       "    </tr>\n",
       "    <tr>\n",
       "      <th>7</th>\n",
       "      <td>15:20:00</td>\n",
       "      <td>Tarde</td>\n",
       "    </tr>\n",
       "    <tr>\n",
       "      <th>8</th>\n",
       "      <td>01:20:00</td>\n",
       "      <td>Madrugada</td>\n",
       "    </tr>\n",
       "    <tr>\n",
       "      <th>9</th>\n",
       "      <td>11:30:00</td>\n",
       "      <td>Mañana</td>\n",
       "    </tr>\n",
       "    <tr>\n",
       "      <th>10</th>\n",
       "      <td>05:14:00</td>\n",
       "      <td>Madrugada</td>\n",
       "    </tr>\n",
       "    <tr>\n",
       "      <th>11</th>\n",
       "      <td>22:00:00</td>\n",
       "      <td>Noche</td>\n",
       "    </tr>\n",
       "    <tr>\n",
       "      <th>12</th>\n",
       "      <td>16:54:00</td>\n",
       "      <td>Tarde</td>\n",
       "    </tr>\n",
       "    <tr>\n",
       "      <th>13</th>\n",
       "      <td>09:30:00</td>\n",
       "      <td>Mañana</td>\n",
       "    </tr>\n",
       "    <tr>\n",
       "      <th>14</th>\n",
       "      <td>16:00:00</td>\n",
       "      <td>Tarde</td>\n",
       "    </tr>\n",
       "  </tbody>\n",
       "</table>\n",
       "</div>"
      ],
      "text/plain": [
       "        Hora MomentoDia\n",
       "0   04:00:00  Madrugada\n",
       "1   01:15:00  Madrugada\n",
       "2   07:00:00     Mañana\n",
       "3   00:00:00  Madrugada\n",
       "4   05:20:00  Madrugada\n",
       "5   18:30:00      Noche\n",
       "6   19:10:00      Noche\n",
       "7   15:20:00      Tarde\n",
       "8   01:20:00  Madrugada\n",
       "9   11:30:00     Mañana\n",
       "10  05:14:00  Madrugada\n",
       "11  22:00:00      Noche\n",
       "12  16:54:00      Tarde\n",
       "13  09:30:00     Mañana\n",
       "14  16:00:00      Tarde"
      ]
     },
     "execution_count": 81,
     "metadata": {},
     "output_type": "execute_result"
    }
   ],
   "source": [
    "df_hechos[\"MomentoDia\"]= df_hechos[\"Hora\"]. apply(asignar_momento_dia)\n",
    "df_hechos[[\"Hora\",\"MomentoDia\"]].head(15)"
   ]
  },
  {
   "cell_type": "markdown",
   "metadata": {},
   "source": [
    "## UNIFICACION DE DATASETS"
   ]
  },
  {
   "cell_type": "code",
   "execution_count": 82,
   "metadata": {},
   "outputs": [
    {
     "data": {
      "text/plain": [
       "Index(['Id', 'Nro Victimas', 'Fecha', 'Año', 'Mes', 'Dia', 'Hora',\n",
       "       'Franja Horaria', 'Lugar', 'Tipo Calle', 'Calle', 'Cruce',\n",
       "       'Dirección Normalizada', 'Comuna', 'Longitud', 'Latitud',\n",
       "       'Participantes', 'Victima', 'Acusado', 'DiaSemana', 'MomentoDia'],\n",
       "      dtype='object')"
      ]
     },
     "execution_count": 82,
     "metadata": {},
     "output_type": "execute_result"
    }
   ],
   "source": [
    "df_hechos.columns"
   ]
  },
  {
   "cell_type": "code",
   "execution_count": 83,
   "metadata": {},
   "outputs": [
    {
     "data": {
      "text/plain": [
       "Index(['Id', 'Fecha', 'Año', 'Mes', 'Dia', 'Rol', 'Victima', 'Sexo', 'Edad'], dtype='object')"
      ]
     },
     "execution_count": 83,
     "metadata": {},
     "output_type": "execute_result"
    }
   ],
   "source": [
    "df_victimas.columns"
   ]
  },
  {
   "cell_type": "markdown",
   "metadata": {},
   "source": [
    "Se eliminan columnas que se encuentran repetidas para que se haga la correcta union de los dataframes"
   ]
  },
  {
   "cell_type": "code",
   "execution_count": 84,
   "metadata": {},
   "outputs": [
    {
     "data": {
      "text/plain": [
       "Index(['Id', 'Rol', 'Sexo', 'Edad'], dtype='object')"
      ]
     },
     "execution_count": 84,
     "metadata": {},
     "output_type": "execute_result"
    }
   ],
   "source": [
    "df_victimas = df_victimas.drop([\"Fecha\",\"Año\",\"Mes\",\"Dia\",\"Victima\"], axis=1)\n",
    "df_victimas.columns"
   ]
  },
  {
   "cell_type": "code",
   "execution_count": 85,
   "metadata": {},
   "outputs": [
    {
     "data": {
      "text/html": [
       "<div>\n",
       "<style scoped>\n",
       "    .dataframe tbody tr th:only-of-type {\n",
       "        vertical-align: middle;\n",
       "    }\n",
       "\n",
       "    .dataframe tbody tr th {\n",
       "        vertical-align: top;\n",
       "    }\n",
       "\n",
       "    .dataframe thead th {\n",
       "        text-align: right;\n",
       "    }\n",
       "</style>\n",
       "<table border=\"1\" class=\"dataframe\">\n",
       "  <thead>\n",
       "    <tr style=\"text-align: right;\">\n",
       "      <th></th>\n",
       "      <th>Id</th>\n",
       "      <th>Nro Victimas</th>\n",
       "      <th>Fecha</th>\n",
       "      <th>Año</th>\n",
       "      <th>Mes</th>\n",
       "      <th>Dia</th>\n",
       "      <th>Hora</th>\n",
       "      <th>Franja Horaria</th>\n",
       "      <th>Lugar</th>\n",
       "      <th>Tipo Calle</th>\n",
       "      <th>...</th>\n",
       "      <th>Longitud</th>\n",
       "      <th>Latitud</th>\n",
       "      <th>Participantes</th>\n",
       "      <th>Victima</th>\n",
       "      <th>Acusado</th>\n",
       "      <th>DiaSemana</th>\n",
       "      <th>MomentoDia</th>\n",
       "      <th>Rol</th>\n",
       "      <th>Sexo</th>\n",
       "      <th>Edad</th>\n",
       "    </tr>\n",
       "  </thead>\n",
       "  <tbody>\n",
       "    <tr>\n",
       "      <th>0</th>\n",
       "      <td>2016-0001</td>\n",
       "      <td>1</td>\n",
       "      <td>2016-01-01</td>\n",
       "      <td>2016</td>\n",
       "      <td>1</td>\n",
       "      <td>1</td>\n",
       "      <td>04:00:00</td>\n",
       "      <td>4</td>\n",
       "      <td>AV PIEDRA BUENA Y AV FERNANDEZ DE LA CRUZ</td>\n",
       "      <td>AVENIDA</td>\n",
       "      <td>...</td>\n",
       "      <td>-58.475340</td>\n",
       "      <td>-34.687570</td>\n",
       "      <td>MOTO-AUTO</td>\n",
       "      <td>MOTO</td>\n",
       "      <td>AUTO</td>\n",
       "      <td>Viernes</td>\n",
       "      <td>Madrugada</td>\n",
       "      <td>CONDUCTOR</td>\n",
       "      <td>MASCULINO</td>\n",
       "      <td>19.0</td>\n",
       "    </tr>\n",
       "    <tr>\n",
       "      <th>1</th>\n",
       "      <td>2016-0002</td>\n",
       "      <td>1</td>\n",
       "      <td>2016-01-02</td>\n",
       "      <td>2016</td>\n",
       "      <td>1</td>\n",
       "      <td>2</td>\n",
       "      <td>01:15:00</td>\n",
       "      <td>1</td>\n",
       "      <td>AV GRAL PAZ  Y AV DE LOS CORRALES</td>\n",
       "      <td>AUTOPISTA</td>\n",
       "      <td>...</td>\n",
       "      <td>-58.508775</td>\n",
       "      <td>-34.669777</td>\n",
       "      <td>AUTO-PASAJEROS</td>\n",
       "      <td>AUTO</td>\n",
       "      <td>PASAJEROS</td>\n",
       "      <td>Sábado</td>\n",
       "      <td>Madrugada</td>\n",
       "      <td>CONDUCTOR</td>\n",
       "      <td>MASCULINO</td>\n",
       "      <td>70.0</td>\n",
       "    </tr>\n",
       "    <tr>\n",
       "      <th>2</th>\n",
       "      <td>2016-0003</td>\n",
       "      <td>1</td>\n",
       "      <td>2016-01-03</td>\n",
       "      <td>2016</td>\n",
       "      <td>1</td>\n",
       "      <td>3</td>\n",
       "      <td>07:00:00</td>\n",
       "      <td>7</td>\n",
       "      <td>AV ENTRE RIOS 2034</td>\n",
       "      <td>AVENIDA</td>\n",
       "      <td>...</td>\n",
       "      <td>-58.390403</td>\n",
       "      <td>-34.631894</td>\n",
       "      <td>MOTO-AUTO</td>\n",
       "      <td>MOTO</td>\n",
       "      <td>AUTO</td>\n",
       "      <td>Domingo</td>\n",
       "      <td>Mañana</td>\n",
       "      <td>CONDUCTOR</td>\n",
       "      <td>MASCULINO</td>\n",
       "      <td>30.0</td>\n",
       "    </tr>\n",
       "    <tr>\n",
       "      <th>3</th>\n",
       "      <td>2016-0004</td>\n",
       "      <td>1</td>\n",
       "      <td>2016-01-10</td>\n",
       "      <td>2016</td>\n",
       "      <td>1</td>\n",
       "      <td>10</td>\n",
       "      <td>00:00:00</td>\n",
       "      <td>0</td>\n",
       "      <td>AV LARRAZABAL Y GRAL VILLEGAS CONRADO</td>\n",
       "      <td>AVENIDA</td>\n",
       "      <td>...</td>\n",
       "      <td>-58.465039</td>\n",
       "      <td>-34.680930</td>\n",
       "      <td>MOTO-SD</td>\n",
       "      <td>MOTO</td>\n",
       "      <td>SD</td>\n",
       "      <td>Domingo</td>\n",
       "      <td>Madrugada</td>\n",
       "      <td>CONDUCTOR</td>\n",
       "      <td>MASCULINO</td>\n",
       "      <td>18.0</td>\n",
       "    </tr>\n",
       "    <tr>\n",
       "      <th>4</th>\n",
       "      <td>2016-0005</td>\n",
       "      <td>1</td>\n",
       "      <td>2016-01-21</td>\n",
       "      <td>2016</td>\n",
       "      <td>1</td>\n",
       "      <td>21</td>\n",
       "      <td>05:20:00</td>\n",
       "      <td>5</td>\n",
       "      <td>AV SAN JUAN Y PRESIDENTE LUIS SAENZ PEÑA</td>\n",
       "      <td>AVENIDA</td>\n",
       "      <td>...</td>\n",
       "      <td>-58.387183</td>\n",
       "      <td>-34.622466</td>\n",
       "      <td>MOTO-PASAJEROS</td>\n",
       "      <td>MOTO</td>\n",
       "      <td>PASAJEROS</td>\n",
       "      <td>Jueves</td>\n",
       "      <td>Madrugada</td>\n",
       "      <td>CONDUCTOR</td>\n",
       "      <td>MASCULINO</td>\n",
       "      <td>29.0</td>\n",
       "    </tr>\n",
       "  </tbody>\n",
       "</table>\n",
       "<p>5 rows × 24 columns</p>\n",
       "</div>"
      ],
      "text/plain": [
       "          Id  Nro Victimas       Fecha   Año  Mes  Dia      Hora  \\\n",
       "0  2016-0001             1  2016-01-01  2016    1    1  04:00:00   \n",
       "1  2016-0002             1  2016-01-02  2016    1    2  01:15:00   \n",
       "2  2016-0003             1  2016-01-03  2016    1    3  07:00:00   \n",
       "3  2016-0004             1  2016-01-10  2016    1   10  00:00:00   \n",
       "4  2016-0005             1  2016-01-21  2016    1   21  05:20:00   \n",
       "\n",
       "   Franja Horaria                                      Lugar Tipo Calle  ...  \\\n",
       "0               4  AV PIEDRA BUENA Y AV FERNANDEZ DE LA CRUZ    AVENIDA  ...   \n",
       "1               1          AV GRAL PAZ  Y AV DE LOS CORRALES  AUTOPISTA  ...   \n",
       "2               7                         AV ENTRE RIOS 2034    AVENIDA  ...   \n",
       "3               0      AV LARRAZABAL Y GRAL VILLEGAS CONRADO    AVENIDA  ...   \n",
       "4               5  AV SAN JUAN Y PRESIDENTE LUIS SAENZ PEÑA     AVENIDA  ...   \n",
       "\n",
       "    Longitud    Latitud   Participantes Victima    Acusado  DiaSemana  \\\n",
       "0 -58.475340 -34.687570       MOTO-AUTO    MOTO       AUTO    Viernes   \n",
       "1 -58.508775 -34.669777  AUTO-PASAJEROS    AUTO  PASAJEROS     Sábado   \n",
       "2 -58.390403 -34.631894       MOTO-AUTO    MOTO       AUTO    Domingo   \n",
       "3 -58.465039 -34.680930         MOTO-SD    MOTO         SD    Domingo   \n",
       "4 -58.387183 -34.622466  MOTO-PASAJEROS    MOTO  PASAJEROS     Jueves   \n",
       "\n",
       "  MomentoDia        Rol       Sexo  Edad  \n",
       "0  Madrugada  CONDUCTOR  MASCULINO  19.0  \n",
       "1  Madrugada  CONDUCTOR  MASCULINO  70.0  \n",
       "2     Mañana  CONDUCTOR  MASCULINO  30.0  \n",
       "3  Madrugada  CONDUCTOR  MASCULINO  18.0  \n",
       "4  Madrugada  CONDUCTOR  MASCULINO  29.0  \n",
       "\n",
       "[5 rows x 24 columns]"
      ]
     },
     "execution_count": 85,
     "metadata": {},
     "output_type": "execute_result"
    }
   ],
   "source": [
    "df_siniestros = df_hechos.merge(df_victimas, on=\"Id\", how=\"left\")\n",
    "df_siniestros.head(5)"
   ]
  },
  {
   "cell_type": "code",
   "execution_count": 86,
   "metadata": {},
   "outputs": [
    {
     "name": "stdout",
     "output_type": "stream",
     "text": [
      "<class 'pandas.core.frame.DataFrame'>\n",
      "RangeIndex: 707 entries, 0 to 706\n",
      "Data columns (total 24 columns):\n",
      " #   Column                 Non-Null Count  Dtype   \n",
      "---  ------                 --------------  -----   \n",
      " 0   Id                     707 non-null    object  \n",
      " 1   Nro Victimas           707 non-null    int64   \n",
      " 2   Fecha                  707 non-null    object  \n",
      " 3   Año                    707 non-null    int64   \n",
      " 4   Mes                    707 non-null    int64   \n",
      " 5   Dia                    707 non-null    int64   \n",
      " 6   Hora                   707 non-null    object  \n",
      " 7   Franja Horaria         707 non-null    int64   \n",
      " 8   Lugar                  707 non-null    object  \n",
      " 9   Tipo Calle             707 non-null    category\n",
      " 10  Calle                  707 non-null    object  \n",
      " 11  Cruce                  707 non-null    object  \n",
      " 12  Dirección Normalizada  707 non-null    object  \n",
      " 13  Comuna                 707 non-null    category\n",
      " 14  Longitud               707 non-null    float64 \n",
      " 15  Latitud                707 non-null    float64 \n",
      " 16  Participantes          707 non-null    object  \n",
      " 17  Victima                707 non-null    category\n",
      " 18  Acusado                707 non-null    category\n",
      " 19  DiaSemana              707 non-null    object  \n",
      " 20  MomentoDia             707 non-null    object  \n",
      " 21  Rol                    707 non-null    object  \n",
      " 22  Sexo                   707 non-null    object  \n",
      " 23  Edad                   705 non-null    float64 \n",
      "dtypes: category(4), float64(3), int64(5), object(12)\n",
      "memory usage: 114.9+ KB\n"
     ]
    }
   ],
   "source": [
    "df_siniestros.info()"
   ]
  },
  {
   "cell_type": "code",
   "execution_count": 87,
   "metadata": {},
   "outputs": [
    {
     "data": {
      "text/plain": [
       "Id                       0\n",
       "Nro Victimas             0\n",
       "Fecha                    0\n",
       "Año                      0\n",
       "Mes                      0\n",
       "Dia                      0\n",
       "Hora                     0\n",
       "Franja Horaria           0\n",
       "Lugar                    0\n",
       "Tipo Calle               0\n",
       "Calle                    0\n",
       "Cruce                    0\n",
       "Dirección Normalizada    0\n",
       "Comuna                   0\n",
       "Longitud                 0\n",
       "Latitud                  0\n",
       "Participantes            0\n",
       "Victima                  0\n",
       "Acusado                  0\n",
       "DiaSemana                0\n",
       "MomentoDia               0\n",
       "Rol                      0\n",
       "Sexo                     0\n",
       "Edad                     2\n",
       "dtype: int64"
      ]
     },
     "execution_count": 87,
     "metadata": {},
     "output_type": "execute_result"
    }
   ],
   "source": [
    "df_siniestros.isnull().sum()"
   ]
  },
  {
   "cell_type": "code",
   "execution_count": 88,
   "metadata": {},
   "outputs": [
    {
     "data": {
      "text/plain": [
       "(707, 24)"
      ]
     },
     "execution_count": 88,
     "metadata": {},
     "output_type": "execute_result"
    }
   ],
   "source": [
    "df_siniestros.shape"
   ]
  },
  {
   "cell_type": "code",
   "execution_count": 89,
   "metadata": {},
   "outputs": [
    {
     "data": {
      "text/html": [
       "<div>\n",
       "<style scoped>\n",
       "    .dataframe tbody tr th:only-of-type {\n",
       "        vertical-align: middle;\n",
       "    }\n",
       "\n",
       "    .dataframe tbody tr th {\n",
       "        vertical-align: top;\n",
       "    }\n",
       "\n",
       "    .dataframe thead th {\n",
       "        text-align: right;\n",
       "    }\n",
       "</style>\n",
       "<table border=\"1\" class=\"dataframe\">\n",
       "  <thead>\n",
       "    <tr style=\"text-align: right;\">\n",
       "      <th></th>\n",
       "      <th>Id</th>\n",
       "      <th>Nro Victimas</th>\n",
       "      <th>Fecha</th>\n",
       "      <th>Año</th>\n",
       "      <th>Mes</th>\n",
       "      <th>Dia</th>\n",
       "      <th>Hora</th>\n",
       "      <th>Franja Horaria</th>\n",
       "      <th>Lugar</th>\n",
       "      <th>Tipo Calle</th>\n",
       "      <th>...</th>\n",
       "      <th>Longitud</th>\n",
       "      <th>Latitud</th>\n",
       "      <th>Participantes</th>\n",
       "      <th>Victima</th>\n",
       "      <th>Acusado</th>\n",
       "      <th>DiaSemana</th>\n",
       "      <th>MomentoDia</th>\n",
       "      <th>Rol</th>\n",
       "      <th>Sexo</th>\n",
       "      <th>Edad</th>\n",
       "    </tr>\n",
       "  </thead>\n",
       "  <tbody>\n",
       "    <tr>\n",
       "      <th>36</th>\n",
       "      <td>2016-0049</td>\n",
       "      <td>1</td>\n",
       "      <td>2016-04-17</td>\n",
       "      <td>2016</td>\n",
       "      <td>4</td>\n",
       "      <td>17</td>\n",
       "      <td>00:00:00</td>\n",
       "      <td>0</td>\n",
       "      <td>AUTOPISTA 1 SUR PRESIDENTE ARTURO FRONDIZI KM....</td>\n",
       "      <td>AUTOPISTA</td>\n",
       "      <td>...</td>\n",
       "      <td>-58.377146</td>\n",
       "      <td>-34.636575</td>\n",
       "      <td>SD-SD</td>\n",
       "      <td>SD</td>\n",
       "      <td>SD</td>\n",
       "      <td>Domingo</td>\n",
       "      <td>Madrugada</td>\n",
       "      <td>CONDUCTOR</td>\n",
       "      <td>SD</td>\n",
       "      <td>NaN</td>\n",
       "    </tr>\n",
       "    <tr>\n",
       "      <th>135</th>\n",
       "      <td>2016-0171</td>\n",
       "      <td>1</td>\n",
       "      <td>2016-12-25</td>\n",
       "      <td>2016</td>\n",
       "      <td>12</td>\n",
       "      <td>25</td>\n",
       "      <td>19:00:00</td>\n",
       "      <td>19</td>\n",
       "      <td>AU BUENOS AIRES - LA PLATA Y AU 25 DE MAYO</td>\n",
       "      <td>AUTOPISTA</td>\n",
       "      <td>...</td>\n",
       "      <td>-58.366071</td>\n",
       "      <td>-34.621507</td>\n",
       "      <td>MOTO-MOTO</td>\n",
       "      <td>MOTO</td>\n",
       "      <td>MOTO</td>\n",
       "      <td>Domingo</td>\n",
       "      <td>Noche</td>\n",
       "      <td>CONDUCTOR</td>\n",
       "      <td>SD</td>\n",
       "      <td>NaN</td>\n",
       "    </tr>\n",
       "  </tbody>\n",
       "</table>\n",
       "<p>2 rows × 24 columns</p>\n",
       "</div>"
      ],
      "text/plain": [
       "            Id  Nro Victimas       Fecha   Año  Mes  Dia      Hora  \\\n",
       "36   2016-0049             1  2016-04-17  2016    4   17  00:00:00   \n",
       "135  2016-0171             1  2016-12-25  2016   12   25  19:00:00   \n",
       "\n",
       "     Franja Horaria                                              Lugar  \\\n",
       "36                0  AUTOPISTA 1 SUR PRESIDENTE ARTURO FRONDIZI KM....   \n",
       "135              19         AU BUENOS AIRES - LA PLATA Y AU 25 DE MAYO   \n",
       "\n",
       "    Tipo Calle  ...   Longitud    Latitud Participantes Victima  Acusado  \\\n",
       "36   AUTOPISTA  ... -58.377146 -34.636575         SD-SD      SD       SD   \n",
       "135  AUTOPISTA  ... -58.366071 -34.621507     MOTO-MOTO    MOTO     MOTO   \n",
       "\n",
       "     DiaSemana MomentoDia        Rol Sexo Edad  \n",
       "36     Domingo  Madrugada  CONDUCTOR   SD  NaN  \n",
       "135    Domingo      Noche  CONDUCTOR   SD  NaN  \n",
       "\n",
       "[2 rows x 24 columns]"
      ]
     },
     "execution_count": 89,
     "metadata": {},
     "output_type": "execute_result"
    }
   ],
   "source": [
    "filas_nulas_edad = df_siniestros[df_siniestros[\"Edad\"].isnull()]\n",
    "filas_nulas_edad"
   ]
  },
  {
   "cell_type": "markdown",
   "metadata": {},
   "source": [
    "La variable Edad hay 2 valores nulos, se procede a completar ese valor con la moda de edad, ya que si lo borramos perdemos 2 victimas, completarla con la moda se considera la mejor tranformacion "
   ]
  },
  {
   "cell_type": "code",
   "execution_count": 90,
   "metadata": {},
   "outputs": [],
   "source": [
    "moda_edad = df_siniestros[\"Edad\"].mode()[0]\n",
    "moda_edad\n",
    "df_siniestros[\"Edad\"] = df_siniestros[\"Edad\"].fillna(moda_edad)"
   ]
  },
  {
   "cell_type": "code",
   "execution_count": 91,
   "metadata": {},
   "outputs": [
    {
     "data": {
      "text/plain": [
       "Id                       0\n",
       "Nro Victimas             0\n",
       "Fecha                    0\n",
       "Año                      0\n",
       "Mes                      0\n",
       "Dia                      0\n",
       "Hora                     0\n",
       "Franja Horaria           0\n",
       "Lugar                    0\n",
       "Tipo Calle               0\n",
       "Calle                    0\n",
       "Cruce                    0\n",
       "Dirección Normalizada    0\n",
       "Comuna                   0\n",
       "Longitud                 0\n",
       "Latitud                  0\n",
       "Participantes            0\n",
       "Victima                  0\n",
       "Acusado                  0\n",
       "DiaSemana                0\n",
       "MomentoDia               0\n",
       "Rol                      0\n",
       "Sexo                     0\n",
       "Edad                     0\n",
       "dtype: int64"
      ]
     },
     "execution_count": 91,
     "metadata": {},
     "output_type": "execute_result"
    }
   ],
   "source": [
    "df_siniestros.isnull().sum()"
   ]
  },
  {
   "cell_type": "code",
   "execution_count": 92,
   "metadata": {},
   "outputs": [
    {
     "name": "stdout",
     "output_type": "stream",
     "text": [
      "Columna 'Id': 0 veces que aparece 'SD'\n",
      "Columna 'Nro Victimas': 0 veces que aparece 'SD'\n",
      "Columna 'Fecha': 0 veces que aparece 'SD'\n",
      "Columna 'Año': 0 veces que aparece 'SD'\n",
      "Columna 'Mes': 0 veces que aparece 'SD'\n",
      "Columna 'Dia': 0 veces que aparece 'SD'\n",
      "Columna 'Hora': 0 veces que aparece 'SD'\n",
      "Columna 'Franja Horaria': 0 veces que aparece 'SD'\n",
      "Columna 'Lugar': 0 veces que aparece 'SD'\n",
      "Columna 'Tipo Calle': 0 veces que aparece 'SD'\n",
      "Columna 'Calle': 0 veces que aparece 'SD'\n",
      "Columna 'Cruce': 0 veces que aparece 'SD'\n",
      "Columna 'Dirección Normalizada': 0 veces que aparece 'SD'\n",
      "Columna 'Comuna': 0 veces que aparece 'SD'\n",
      "Columna 'Longitud': 0 veces que aparece 'SD'\n",
      "Columna 'Latitud': 0 veces que aparece 'SD'\n",
      "Columna 'Participantes': 0 veces que aparece 'SD'\n",
      "Columna 'Victima': 8 veces que aparece 'SD'\n",
      "Columna 'Acusado': 20 veces que aparece 'SD'\n",
      "Columna 'DiaSemana': 0 veces que aparece 'SD'\n",
      "Columna 'MomentoDia': 0 veces que aparece 'SD'\n",
      "Columna 'Rol': 0 veces que aparece 'SD'\n",
      "Columna 'Sexo': 2 veces que aparece 'SD'\n",
      "Columna 'Edad': 0 veces que aparece 'SD'\n"
     ]
    }
   ],
   "source": [
    "columnas_sd_dicc = {}  \n",
    "\n",
    "for columna in df_siniestros.columns:\n",
    "    cantidad = (df_siniestros[columna] == 'SD').sum()\n",
    "    columnas_sd_dicc[columna] = cantidad\n",
    "\n",
    "for columna, conteo in columnas_sd_dicc.items():\n",
    "    print(f\"Columna '{columna}': {conteo} veces que aparece 'SD'\")"
   ]
  },
  {
   "cell_type": "markdown",
   "metadata": {},
   "source": [
    "los datos SD, en victima y acusado se cambian por otros\n",
    "los datos SD, en sexo se cambia de acuerdo a la moda"
   ]
  },
  {
   "cell_type": "code",
   "execution_count": 93,
   "metadata": {},
   "outputs": [],
   "source": [
    "df_siniestros[\"Victima\"] = df_siniestros[\"Victima\"].replace({\"SD\": \"OTRO\"})"
   ]
  },
  {
   "cell_type": "code",
   "execution_count": 95,
   "metadata": {},
   "outputs": [],
   "source": [
    "df_siniestros[\"Acusado\"] = df_siniestros[\"Acusado\"].replace({\"SD\": \"OTRO\"})"
   ]
  },
  {
   "cell_type": "code",
   "execution_count": 98,
   "metadata": {},
   "outputs": [],
   "source": [
    "sexo_moda = df_siniestros[\"Sexo\"].mode()[0]\n",
    "df_siniestros[\"Sexo\"] = df_siniestros[\"Sexo\"].replace(\"SD\",sexo_moda)"
   ]
  },
  {
   "cell_type": "code",
   "execution_count": 99,
   "metadata": {},
   "outputs": [
    {
     "name": "stdout",
     "output_type": "stream",
     "text": [
      "Columna 'Id': 0 veces que aparece 'SD'\n",
      "Columna 'Nro Victimas': 0 veces que aparece 'SD'\n",
      "Columna 'Fecha': 0 veces que aparece 'SD'\n",
      "Columna 'Año': 0 veces que aparece 'SD'\n",
      "Columna 'Mes': 0 veces que aparece 'SD'\n",
      "Columna 'Dia': 0 veces que aparece 'SD'\n",
      "Columna 'Hora': 0 veces que aparece 'SD'\n",
      "Columna 'Franja Horaria': 0 veces que aparece 'SD'\n",
      "Columna 'Lugar': 0 veces que aparece 'SD'\n",
      "Columna 'Tipo Calle': 0 veces que aparece 'SD'\n",
      "Columna 'Calle': 0 veces que aparece 'SD'\n",
      "Columna 'Cruce': 0 veces que aparece 'SD'\n",
      "Columna 'Dirección Normalizada': 0 veces que aparece 'SD'\n",
      "Columna 'Comuna': 0 veces que aparece 'SD'\n",
      "Columna 'Longitud': 0 veces que aparece 'SD'\n",
      "Columna 'Latitud': 0 veces que aparece 'SD'\n",
      "Columna 'Participantes': 0 veces que aparece 'SD'\n",
      "Columna 'Victima': 0 veces que aparece 'SD'\n",
      "Columna 'Acusado': 0 veces que aparece 'SD'\n",
      "Columna 'DiaSemana': 0 veces que aparece 'SD'\n",
      "Columna 'MomentoDia': 0 veces que aparece 'SD'\n",
      "Columna 'Rol': 0 veces que aparece 'SD'\n",
      "Columna 'Sexo': 0 veces que aparece 'SD'\n",
      "Columna 'Edad': 0 veces que aparece 'SD'\n"
     ]
    }
   ],
   "source": [
    "columnas_sd_dicc = {}  \n",
    "\n",
    "for columna in df_siniestros.columns:\n",
    "    cantidad = (df_siniestros[columna] == 'SD').sum()\n",
    "    columnas_sd_dicc[columna] = cantidad\n",
    "\n",
    "for columna, conteo in columnas_sd_dicc.items():\n",
    "    print(f\"Columna '{columna}': {conteo} veces que aparece 'SD'\")"
   ]
  },
  {
   "cell_type": "markdown",
   "metadata": {},
   "source": [
    "## Se Guardan los nuevos Dataframe"
   ]
  },
  {
   "cell_type": "code",
   "execution_count": 100,
   "metadata": {},
   "outputs": [],
   "source": [
    "df_hechos.to_csv(\"Datasets/df_hechos.csv\", index=False)\n",
    "df_victimas.to_csv(\"Datasets/df_victimas.csv\", index=False)\n",
    "df_siniestros.to_csv(\"Datasets/df_siniestros.csv\", index=False)"
   ]
  }
 ],
 "metadata": {
  "kernelspec": {
   "display_name": "Python 3",
   "language": "python",
   "name": "python3"
  },
  "language_info": {
   "codemirror_mode": {
    "name": "ipython",
    "version": 3
   },
   "file_extension": ".py",
   "mimetype": "text/x-python",
   "name": "python",
   "nbconvert_exporter": "python",
   "pygments_lexer": "ipython3",
   "version": "3.11.3"
  }
 },
 "nbformat": 4,
 "nbformat_minor": 2
}
